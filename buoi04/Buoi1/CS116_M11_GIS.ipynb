{
  "nbformat": 4,
  "nbformat_minor": 0,
  "metadata": {
    "colab": {
      "name": "CS116.M11_GIS.ipynb",
      "provenance": [],
      "collapsed_sections": []
    },
    "kernelspec": {
      "name": "python3",
      "display_name": "Python 3"
    },
    "language_info": {
      "name": "python"
    }
  },
  "cells": [
    {
      "cell_type": "markdown",
      "metadata": {
        "id": "Df1t2eWDbsCf"
      },
      "source": [
        "#Bài tập thực hành GIS - Lập trình máy học cho python - CS116.M11\n",
        "\n",
        "\n",
        "\n",
        "MSSV: 19521299\n",
        "\n",
        "Tên: Nguyễn Chí Cường\n",
        "\n",
        "Ngày: 21/09/2021"
      ]
    },
    {
      "cell_type": "markdown",
      "metadata": {
        "id": "8GcfiSzMcJ-O"
      },
      "source": [
        "#Cài geopandas + Clone github"
      ]
    },
    {
      "cell_type": "code",
      "metadata": {
        "colab": {
          "base_uri": "https://localhost:8080/"
        },
        "id": "gcIYqPOON61M",
        "outputId": "27af7836-94ea-4d3f-abeb-dec5b0be2907"
      },
      "source": [
        "#Bước 1: Cài được package\n",
        "!pip install geopandas"
      ],
      "execution_count": 1,
      "outputs": [
        {
          "output_type": "stream",
          "name": "stdout",
          "text": [
            "Collecting geopandas\n",
            "  Downloading geopandas-0.9.0-py2.py3-none-any.whl (994 kB)\n",
            "\u001b[?25l\r\u001b[K     |▎                               | 10 kB 24.5 MB/s eta 0:00:01\r\u001b[K     |▋                               | 20 kB 30.8 MB/s eta 0:00:01\r\u001b[K     |█                               | 30 kB 12.5 MB/s eta 0:00:01\r\u001b[K     |█▎                              | 40 kB 9.3 MB/s eta 0:00:01\r\u001b[K     |█▋                              | 51 kB 5.1 MB/s eta 0:00:01\r\u001b[K     |██                              | 61 kB 5.2 MB/s eta 0:00:01\r\u001b[K     |██▎                             | 71 kB 5.4 MB/s eta 0:00:01\r\u001b[K     |██▋                             | 81 kB 6.0 MB/s eta 0:00:01\r\u001b[K     |███                             | 92 kB 6.0 MB/s eta 0:00:01\r\u001b[K     |███▎                            | 102 kB 4.9 MB/s eta 0:00:01\r\u001b[K     |███▋                            | 112 kB 4.9 MB/s eta 0:00:01\r\u001b[K     |████                            | 122 kB 4.9 MB/s eta 0:00:01\r\u001b[K     |████▎                           | 133 kB 4.9 MB/s eta 0:00:01\r\u001b[K     |████▋                           | 143 kB 4.9 MB/s eta 0:00:01\r\u001b[K     |█████                           | 153 kB 4.9 MB/s eta 0:00:01\r\u001b[K     |█████▎                          | 163 kB 4.9 MB/s eta 0:00:01\r\u001b[K     |█████▋                          | 174 kB 4.9 MB/s eta 0:00:01\r\u001b[K     |██████                          | 184 kB 4.9 MB/s eta 0:00:01\r\u001b[K     |██████▎                         | 194 kB 4.9 MB/s eta 0:00:01\r\u001b[K     |██████▋                         | 204 kB 4.9 MB/s eta 0:00:01\r\u001b[K     |███████                         | 215 kB 4.9 MB/s eta 0:00:01\r\u001b[K     |███████▎                        | 225 kB 4.9 MB/s eta 0:00:01\r\u001b[K     |███████▋                        | 235 kB 4.9 MB/s eta 0:00:01\r\u001b[K     |████████                        | 245 kB 4.9 MB/s eta 0:00:01\r\u001b[K     |████████▎                       | 256 kB 4.9 MB/s eta 0:00:01\r\u001b[K     |████████▋                       | 266 kB 4.9 MB/s eta 0:00:01\r\u001b[K     |█████████                       | 276 kB 4.9 MB/s eta 0:00:01\r\u001b[K     |█████████▎                      | 286 kB 4.9 MB/s eta 0:00:01\r\u001b[K     |█████████▌                      | 296 kB 4.9 MB/s eta 0:00:01\r\u001b[K     |█████████▉                      | 307 kB 4.9 MB/s eta 0:00:01\r\u001b[K     |██████████▏                     | 317 kB 4.9 MB/s eta 0:00:01\r\u001b[K     |██████████▌                     | 327 kB 4.9 MB/s eta 0:00:01\r\u001b[K     |██████████▉                     | 337 kB 4.9 MB/s eta 0:00:01\r\u001b[K     |███████████▏                    | 348 kB 4.9 MB/s eta 0:00:01\r\u001b[K     |███████████▌                    | 358 kB 4.9 MB/s eta 0:00:01\r\u001b[K     |███████████▉                    | 368 kB 4.9 MB/s eta 0:00:01\r\u001b[K     |████████████▏                   | 378 kB 4.9 MB/s eta 0:00:01\r\u001b[K     |████████████▌                   | 389 kB 4.9 MB/s eta 0:00:01\r\u001b[K     |████████████▉                   | 399 kB 4.9 MB/s eta 0:00:01\r\u001b[K     |█████████████▏                  | 409 kB 4.9 MB/s eta 0:00:01\r\u001b[K     |█████████████▌                  | 419 kB 4.9 MB/s eta 0:00:01\r\u001b[K     |█████████████▉                  | 430 kB 4.9 MB/s eta 0:00:01\r\u001b[K     |██████████████▏                 | 440 kB 4.9 MB/s eta 0:00:01\r\u001b[K     |██████████████▌                 | 450 kB 4.9 MB/s eta 0:00:01\r\u001b[K     |██████████████▉                 | 460 kB 4.9 MB/s eta 0:00:01\r\u001b[K     |███████████████▏                | 471 kB 4.9 MB/s eta 0:00:01\r\u001b[K     |███████████████▌                | 481 kB 4.9 MB/s eta 0:00:01\r\u001b[K     |███████████████▉                | 491 kB 4.9 MB/s eta 0:00:01\r\u001b[K     |████████████████▏               | 501 kB 4.9 MB/s eta 0:00:01\r\u001b[K     |████████████████▌               | 512 kB 4.9 MB/s eta 0:00:01\r\u001b[K     |████████████████▉               | 522 kB 4.9 MB/s eta 0:00:01\r\u001b[K     |█████████████████▏              | 532 kB 4.9 MB/s eta 0:00:01\r\u001b[K     |█████████████████▌              | 542 kB 4.9 MB/s eta 0:00:01\r\u001b[K     |█████████████████▉              | 552 kB 4.9 MB/s eta 0:00:01\r\u001b[K     |██████████████████▏             | 563 kB 4.9 MB/s eta 0:00:01\r\u001b[K     |██████████████████▌             | 573 kB 4.9 MB/s eta 0:00:01\r\u001b[K     |██████████████████▊             | 583 kB 4.9 MB/s eta 0:00:01\r\u001b[K     |███████████████████             | 593 kB 4.9 MB/s eta 0:00:01\r\u001b[K     |███████████████████▍            | 604 kB 4.9 MB/s eta 0:00:01\r\u001b[K     |███████████████████▊            | 614 kB 4.9 MB/s eta 0:00:01\r\u001b[K     |████████████████████            | 624 kB 4.9 MB/s eta 0:00:01\r\u001b[K     |████████████████████▍           | 634 kB 4.9 MB/s eta 0:00:01\r\u001b[K     |████████████████████▊           | 645 kB 4.9 MB/s eta 0:00:01\r\u001b[K     |█████████████████████           | 655 kB 4.9 MB/s eta 0:00:01\r\u001b[K     |█████████████████████▍          | 665 kB 4.9 MB/s eta 0:00:01\r\u001b[K     |█████████████████████▊          | 675 kB 4.9 MB/s eta 0:00:01\r\u001b[K     |██████████████████████          | 686 kB 4.9 MB/s eta 0:00:01\r\u001b[K     |██████████████████████▍         | 696 kB 4.9 MB/s eta 0:00:01\r\u001b[K     |██████████████████████▊         | 706 kB 4.9 MB/s eta 0:00:01\r\u001b[K     |███████████████████████         | 716 kB 4.9 MB/s eta 0:00:01\r\u001b[K     |███████████████████████▍        | 727 kB 4.9 MB/s eta 0:00:01\r\u001b[K     |███████████████████████▊        | 737 kB 4.9 MB/s eta 0:00:01\r\u001b[K     |████████████████████████        | 747 kB 4.9 MB/s eta 0:00:01\r\u001b[K     |████████████████████████▍       | 757 kB 4.9 MB/s eta 0:00:01\r\u001b[K     |████████████████████████▊       | 768 kB 4.9 MB/s eta 0:00:01\r\u001b[K     |█████████████████████████       | 778 kB 4.9 MB/s eta 0:00:01\r\u001b[K     |█████████████████████████▍      | 788 kB 4.9 MB/s eta 0:00:01\r\u001b[K     |█████████████████████████▊      | 798 kB 4.9 MB/s eta 0:00:01\r\u001b[K     |██████████████████████████      | 808 kB 4.9 MB/s eta 0:00:01\r\u001b[K     |██████████████████████████▍     | 819 kB 4.9 MB/s eta 0:00:01\r\u001b[K     |██████████████████████████▊     | 829 kB 4.9 MB/s eta 0:00:01\r\u001b[K     |███████████████████████████     | 839 kB 4.9 MB/s eta 0:00:01\r\u001b[K     |███████████████████████████▍    | 849 kB 4.9 MB/s eta 0:00:01\r\u001b[K     |███████████████████████████▊    | 860 kB 4.9 MB/s eta 0:00:01\r\u001b[K     |████████████████████████████    | 870 kB 4.9 MB/s eta 0:00:01\r\u001b[K     |████████████████████████████▎   | 880 kB 4.9 MB/s eta 0:00:01\r\u001b[K     |████████████████████████████▋   | 890 kB 4.9 MB/s eta 0:00:01\r\u001b[K     |█████████████████████████████   | 901 kB 4.9 MB/s eta 0:00:01\r\u001b[K     |█████████████████████████████▎  | 911 kB 4.9 MB/s eta 0:00:01\r\u001b[K     |█████████████████████████████▋  | 921 kB 4.9 MB/s eta 0:00:01\r\u001b[K     |██████████████████████████████  | 931 kB 4.9 MB/s eta 0:00:01\r\u001b[K     |██████████████████████████████▎ | 942 kB 4.9 MB/s eta 0:00:01\r\u001b[K     |██████████████████████████████▋ | 952 kB 4.9 MB/s eta 0:00:01\r\u001b[K     |███████████████████████████████ | 962 kB 4.9 MB/s eta 0:00:01\r\u001b[K     |███████████████████████████████▎| 972 kB 4.9 MB/s eta 0:00:01\r\u001b[K     |███████████████████████████████▋| 983 kB 4.9 MB/s eta 0:00:01\r\u001b[K     |████████████████████████████████| 993 kB 4.9 MB/s eta 0:00:01\r\u001b[K     |████████████████████████████████| 994 kB 4.9 MB/s \n",
            "\u001b[?25hRequirement already satisfied: pandas>=0.24.0 in /usr/local/lib/python3.7/dist-packages (from geopandas) (1.1.5)\n",
            "Collecting pyproj>=2.2.0\n",
            "  Downloading pyproj-3.2.1-cp37-cp37m-manylinux2010_x86_64.whl (6.3 MB)\n",
            "\u001b[K     |████████████████████████████████| 6.3 MB 36.3 MB/s \n",
            "\u001b[?25hRequirement already satisfied: shapely>=1.6 in /usr/local/lib/python3.7/dist-packages (from geopandas) (1.7.1)\n",
            "Collecting fiona>=1.8\n",
            "  Downloading Fiona-1.8.20-cp37-cp37m-manylinux1_x86_64.whl (15.4 MB)\n",
            "\u001b[K     |████████████████████████████████| 15.4 MB 39 kB/s \n",
            "\u001b[?25hCollecting click-plugins>=1.0\n",
            "  Downloading click_plugins-1.1.1-py2.py3-none-any.whl (7.5 kB)\n",
            "Requirement already satisfied: setuptools in /usr/local/lib/python3.7/dist-packages (from fiona>=1.8->geopandas) (57.4.0)\n",
            "Requirement already satisfied: attrs>=17 in /usr/local/lib/python3.7/dist-packages (from fiona>=1.8->geopandas) (21.2.0)\n",
            "Requirement already satisfied: six>=1.7 in /usr/local/lib/python3.7/dist-packages (from fiona>=1.8->geopandas) (1.15.0)\n",
            "Collecting cligj>=0.5\n",
            "  Downloading cligj-0.7.2-py3-none-any.whl (7.1 kB)\n",
            "Requirement already satisfied: certifi in /usr/local/lib/python3.7/dist-packages (from fiona>=1.8->geopandas) (2021.5.30)\n",
            "Collecting munch\n",
            "  Downloading munch-2.5.0-py2.py3-none-any.whl (10 kB)\n",
            "Requirement already satisfied: click>=4.0 in /usr/local/lib/python3.7/dist-packages (from fiona>=1.8->geopandas) (7.1.2)\n",
            "Requirement already satisfied: python-dateutil>=2.7.3 in /usr/local/lib/python3.7/dist-packages (from pandas>=0.24.0->geopandas) (2.8.2)\n",
            "Requirement already satisfied: pytz>=2017.2 in /usr/local/lib/python3.7/dist-packages (from pandas>=0.24.0->geopandas) (2018.9)\n",
            "Requirement already satisfied: numpy>=1.15.4 in /usr/local/lib/python3.7/dist-packages (from pandas>=0.24.0->geopandas) (1.19.5)\n",
            "Installing collected packages: munch, cligj, click-plugins, pyproj, fiona, geopandas\n",
            "Successfully installed click-plugins-1.1.1 cligj-0.7.2 fiona-1.8.20 geopandas-0.9.0 munch-2.5.0 pyproj-3.2.1\n"
          ]
        }
      ]
    },
    {
      "cell_type": "code",
      "metadata": {
        "colab": {
          "base_uri": "https://localhost:8080/"
        },
        "id": "bhyDeN1RMOC2",
        "outputId": "397efd04-45ce-477d-a5a8-67aa32c5c402"
      },
      "source": [
        "#Bước 2: Clone github CSL_HCMC\n",
        "!git clone https://github.com/CityScope/CSL_HCMC.git"
      ],
      "execution_count": 2,
      "outputs": [
        {
          "output_type": "stream",
          "name": "stdout",
          "text": [
            "Cloning into 'CSL_HCMC'...\n",
            "remote: Enumerating objects: 1930, done.\u001b[K\n",
            "remote: Counting objects: 100% (590/590), done.\u001b[K\n",
            "remote: Compressing objects: 100% (315/315), done.\u001b[K\n",
            "remote: Total 1930 (delta 308), reused 500 (delta 269), pack-reused 1340\u001b[K\n",
            "Receiving objects: 100% (1930/1930), 179.02 MiB | 24.38 MiB/s, done.\n",
            "Resolving deltas: 100% (985/985), done.\n",
            "Checking out files: 100% (542/542), done.\n"
          ]
        }
      ]
    },
    {
      "cell_type": "code",
      "metadata": {
        "colab": {
          "base_uri": "https://localhost:8080/",
          "height": 1000
        },
        "id": "XaXwf4hgOVZz",
        "outputId": "f1f15b24-5426-4eac-bf53-2584c31c1806"
      },
      "source": [
        "#Bước 3: đọc file Population_Ward_Level.shp\n",
        "import geopandas as gpd\n",
        "shaper_path = '/content/CSL_HCMC/Data/GIS/Population/population_HCMC/population_shapefile/Population_Ward_Level.shp'\n",
        "df = gpd.read_file(shaper_path)\n",
        "\n",
        "df"
      ],
      "execution_count": 5,
      "outputs": [
        {
          "output_type": "execute_result",
          "data": {
            "text/html": [
              "<div>\n",
              "<style scoped>\n",
              "    .dataframe tbody tr th:only-of-type {\n",
              "        vertical-align: middle;\n",
              "    }\n",
              "\n",
              "    .dataframe tbody tr th {\n",
              "        vertical-align: top;\n",
              "    }\n",
              "\n",
              "    .dataframe thead th {\n",
              "        text-align: right;\n",
              "    }\n",
              "</style>\n",
              "<table border=\"1\" class=\"dataframe\">\n",
              "  <thead>\n",
              "    <tr style=\"text-align: right;\">\n",
              "      <th></th>\n",
              "      <th>Com_Name</th>\n",
              "      <th>Dist_Name</th>\n",
              "      <th>Com_ID</th>\n",
              "      <th>Dist_ID</th>\n",
              "      <th>Level</th>\n",
              "      <th>Pop_2009</th>\n",
              "      <th>Pop_2019</th>\n",
              "      <th>Den_2009</th>\n",
              "      <th>Den_2019</th>\n",
              "      <th>Shape_Leng</th>\n",
              "      <th>Shape_Area</th>\n",
              "      <th>geometry</th>\n",
              "    </tr>\n",
              "  </thead>\n",
              "  <tbody>\n",
              "    <tr>\n",
              "      <th>0</th>\n",
              "      <td>Tan Dinh</td>\n",
              "      <td>District 1</td>\n",
              "      <td>26734</td>\n",
              "      <td>760</td>\n",
              "      <td>Ward</td>\n",
              "      <td>26571.0</td>\n",
              "      <td>23258.0</td>\n",
              "      <td>41942.70</td>\n",
              "      <td>36713.10</td>\n",
              "      <td>3679.098196</td>\n",
              "      <td>6.334981e+05</td>\n",
              "      <td>POLYGON ((684350.511 1193546.266, 684363.810 1...</td>\n",
              "    </tr>\n",
              "    <tr>\n",
              "      <th>1</th>\n",
              "      <td>Ben Nghe</td>\n",
              "      <td>District 1</td>\n",
              "      <td>26740</td>\n",
              "      <td>760</td>\n",
              "      <td>Ward</td>\n",
              "      <td>13580.0</td>\n",
              "      <td>10633.0</td>\n",
              "      <td>5480.09</td>\n",
              "      <td>4290.86</td>\n",
              "      <td>6978.149149</td>\n",
              "      <td>2.478041e+06</td>\n",
              "      <td>POLYGON ((686564.657 1193462.473, 686588.924 1...</td>\n",
              "    </tr>\n",
              "    <tr>\n",
              "      <th>2</th>\n",
              "      <td>Cau Ong Lanh</td>\n",
              "      <td>District 1</td>\n",
              "      <td>26752</td>\n",
              "      <td>760</td>\n",
              "      <td>Ward</td>\n",
              "      <td>12917.0</td>\n",
              "      <td>10737.0</td>\n",
              "      <td>56878.90</td>\n",
              "      <td>47279.50</td>\n",
              "      <td>2260.705105</td>\n",
              "      <td>2.270938e+05</td>\n",
              "      <td>POLYGON ((685922.373 1190479.807, 685914.160 1...</td>\n",
              "    </tr>\n",
              "    <tr>\n",
              "      <th>3</th>\n",
              "      <td>Nguyen Thai Binh</td>\n",
              "      <td>District 1</td>\n",
              "      <td>26746</td>\n",
              "      <td>760</td>\n",
              "      <td>Ward</td>\n",
              "      <td>13197.0</td>\n",
              "      <td>9716.0</td>\n",
              "      <td>26798.80</td>\n",
              "      <td>19730.00</td>\n",
              "      <td>3320.174618</td>\n",
              "      <td>4.924426e+05</td>\n",
              "      <td>POLYGON ((685966.333 1190513.667, 685944.353 1...</td>\n",
              "    </tr>\n",
              "    <tr>\n",
              "      <th>4</th>\n",
              "      <td>Co Giang</td>\n",
              "      <td>District 1</td>\n",
              "      <td>26755</td>\n",
              "      <td>760</td>\n",
              "      <td>Ward</td>\n",
              "      <td>18967.0</td>\n",
              "      <td>11517.0</td>\n",
              "      <td>53327.60</td>\n",
              "      <td>32381.20</td>\n",
              "      <td>2525.453814</td>\n",
              "      <td>3.556650e+05</td>\n",
              "      <td>POLYGON ((685514.573 1190211.431, 685547.521 1...</td>\n",
              "    </tr>\n",
              "    <tr>\n",
              "      <th>...</th>\n",
              "      <td>...</td>\n",
              "      <td>...</td>\n",
              "      <td>...</td>\n",
              "      <td>...</td>\n",
              "      <td>...</td>\n",
              "      <td>...</td>\n",
              "      <td>...</td>\n",
              "      <td>...</td>\n",
              "      <td>...</td>\n",
              "      <td>...</td>\n",
              "      <td>...</td>\n",
              "      <td>...</td>\n",
              "    </tr>\n",
              "    <tr>\n",
              "      <th>317</th>\n",
              "      <td>Tan Hung Thuan</td>\n",
              "      <td>District 12</td>\n",
              "      <td>26787</td>\n",
              "      <td>761</td>\n",
              "      <td>Ward</td>\n",
              "      <td>28892.0</td>\n",
              "      <td>33467.0</td>\n",
              "      <td>16053.40</td>\n",
              "      <td>18595.50</td>\n",
              "      <td>6271.308704</td>\n",
              "      <td>1.799659e+06</td>\n",
              "      <td>POLYGON ((677816.513 1197206.772, 677796.932 1...</td>\n",
              "    </tr>\n",
              "    <tr>\n",
              "      <th>318</th>\n",
              "      <td>Ward 17</td>\n",
              "      <td>Go Vap</td>\n",
              "      <td>26875</td>\n",
              "      <td>764</td>\n",
              "      <td>Ward</td>\n",
              "      <td>44226.0</td>\n",
              "      <td>54728.0</td>\n",
              "      <td>38061.20</td>\n",
              "      <td>47099.30</td>\n",
              "      <td>6385.950275</td>\n",
              "      <td>1.161947e+06</td>\n",
              "      <td>POLYGON ((683516.949 1200006.226, 683509.721 1...</td>\n",
              "    </tr>\n",
              "    <tr>\n",
              "      <th>319</th>\n",
              "      <td>Ward 8</td>\n",
              "      <td>Go Vap</td>\n",
              "      <td>26898</td>\n",
              "      <td>764</td>\n",
              "      <td>Ward</td>\n",
              "      <td>26545.0</td>\n",
              "      <td>32778.0</td>\n",
              "      <td>22751.50</td>\n",
              "      <td>28093.70</td>\n",
              "      <td>5409.821020</td>\n",
              "      <td>1.166701e+06</td>\n",
              "      <td>POLYGON ((680928.492 1199066.285, 680984.889 1...</td>\n",
              "    </tr>\n",
              "    <tr>\n",
              "      <th>320</th>\n",
              "      <td>Ward 9</td>\n",
              "      <td>Go Vap</td>\n",
              "      <td>26897</td>\n",
              "      <td>764</td>\n",
              "      <td>Ward</td>\n",
              "      <td>26785.0</td>\n",
              "      <td>34596.0</td>\n",
              "      <td>31843.10</td>\n",
              "      <td>41129.20</td>\n",
              "      <td>3950.799798</td>\n",
              "      <td>8.411288e+05</td>\n",
              "      <td>POLYGON ((681120.443 1199640.183, 681120.846 1...</td>\n",
              "    </tr>\n",
              "    <tr>\n",
              "      <th>321</th>\n",
              "      <td>Ward 12</td>\n",
              "      <td>Go Vap</td>\n",
              "      <td>26881</td>\n",
              "      <td>764</td>\n",
              "      <td>Ward</td>\n",
              "      <td>50356.0</td>\n",
              "      <td>60502.0</td>\n",
              "      <td>35096.20</td>\n",
              "      <td>42167.60</td>\n",
              "      <td>4848.143508</td>\n",
              "      <td>1.434747e+06</td>\n",
              "      <td>POLYGON ((679970.916 1198480.707, 679932.874 1...</td>\n",
              "    </tr>\n",
              "  </tbody>\n",
              "</table>\n",
              "<p>322 rows × 12 columns</p>\n",
              "</div>"
            ],
            "text/plain": [
              "             Com_Name  ...                                           geometry\n",
              "0            Tan Dinh  ...  POLYGON ((684350.511 1193546.266, 684363.810 1...\n",
              "1            Ben Nghe  ...  POLYGON ((686564.657 1193462.473, 686588.924 1...\n",
              "2        Cau Ong Lanh  ...  POLYGON ((685922.373 1190479.807, 685914.160 1...\n",
              "3    Nguyen Thai Binh  ...  POLYGON ((685966.333 1190513.667, 685944.353 1...\n",
              "4            Co Giang  ...  POLYGON ((685514.573 1190211.431, 685547.521 1...\n",
              "..                ...  ...                                                ...\n",
              "317    Tan Hung Thuan  ...  POLYGON ((677816.513 1197206.772, 677796.932 1...\n",
              "318           Ward 17  ...  POLYGON ((683516.949 1200006.226, 683509.721 1...\n",
              "319            Ward 8  ...  POLYGON ((680928.492 1199066.285, 680984.889 1...\n",
              "320            Ward 9  ...  POLYGON ((681120.443 1199640.183, 681120.846 1...\n",
              "321           Ward 12  ...  POLYGON ((679970.916 1198480.707, 679932.874 1...\n",
              "\n",
              "[322 rows x 12 columns]"
            ]
          },
          "metadata": {},
          "execution_count": 5
        }
      ]
    },
    {
      "cell_type": "markdown",
      "metadata": {
        "id": "JL1GpSbxQxyF"
      },
      "source": [
        "#Thực hiện các tác vụ"
      ]
    },
    {
      "cell_type": "markdown",
      "metadata": {
        "id": "dmsNUMs_Q2Qj"
      },
      "source": [
        "##Phường có diện tích lớn nhất, nhỏ nhất"
      ]
    },
    {
      "cell_type": "code",
      "metadata": {
        "colab": {
          "base_uri": "https://localhost:8080/"
        },
        "id": "_T9AzgjYPnc6",
        "outputId": "c5d4da19-9993-419f-fde3-ad7111d575a7"
      },
      "source": [
        "Area_max_idx = df['Shape_Area'].idxmax()\n",
        "Area_min_idx = df['Shape_Area'].idxmin()\n",
        "print('Phường có diện tích lớn nhất:', str(df['Com_Name'][Area_max_idx]) + '/' + str(df['Dist_Name'][Area_max_idx]))\n",
        "print('Phường có diện tích nhỏ nhất:', str(df['Com_Name'][Area_min_idx]) + '/' + str(df['Dist_Name'][Area_min_idx]))"
      ],
      "execution_count": 51,
      "outputs": [
        {
          "output_type": "stream",
          "name": "stdout",
          "text": [
            "Phường có diện tích lớn nhất: Ly Nhon/Can Gio\n",
            "Phường có diện tích nhỏ nhất: Ward 3/District 10\n"
          ]
        }
      ]
    },
    {
      "cell_type": "markdown",
      "metadata": {
        "id": "OyFb_6FSU5Ta"
      },
      "source": [
        "##Phường có dân số thấp nhất và cao nhất vào năm 2019"
      ]
    },
    {
      "cell_type": "code",
      "metadata": {
        "colab": {
          "base_uri": "https://localhost:8080/"
        },
        "id": "N_JEDnLwUMoI",
        "outputId": "2d5f5106-4f25-4cc2-b8d5-602588d5f39b"
      },
      "source": [
        "Pop_max_idx = df['Pop_2019'].idxmax()\n",
        "Pop_min_idx = df['Pop_2019'].idxmin()\n",
        "print('Phường có dân số lớn nhất vào năm 2019:', str(df['Com_Name'][Pop_max_idx]) + '/' + str(df['Dist_Name'][Pop_max_idx]))\n",
        "print('Phường có dân số nhỏ nhất vào năm 2019:', str(df['Com_Name'][Pop_min_idx]) + '/' + str(df['Dist_Name'][Pop_min_idx]))"
      ],
      "execution_count": 52,
      "outputs": [
        {
          "output_type": "stream",
          "name": "stdout",
          "text": [
            "Phường có dân số lớn nhất vào năm 2019: Vinh Loc A/Binh Chanh\n",
            "Phường có dân số nhỏ nhất vào năm 2019: An Khanh/District 2\n"
          ]
        }
      ]
    },
    {
      "cell_type": "markdown",
      "metadata": {
        "id": "qYR9f1XZVtXp"
      },
      "source": [
        "##Phường có tốc độ tăng trưởng dân số nhanh nhất, chậm nhất"
      ]
    },
    {
      "cell_type": "code",
      "metadata": {
        "id": "xwqKPEGLVYiy"
      },
      "source": [
        "growth_rate  = df['Pop_2019']/df['Pop_2009']"
      ],
      "execution_count": 33,
      "outputs": []
    },
    {
      "cell_type": "code",
      "metadata": {
        "colab": {
          "base_uri": "https://localhost:8080/"
        },
        "id": "A18NIbOXWnGI",
        "outputId": "1f30ef65-347d-4a1f-fe89-7d557f7bc7ff"
      },
      "source": [
        "gro_max_idx = growth_rate.idxmax()\n",
        "gro_min_idx = growth_rate.idxmin()\n",
        "print('Phường có tốc độ tăng trưởng dân số nhanh nhất:', str(df['Com_Name'][gro_max_idx]) + '/' + str(df['Dist_Name'][gro_max_idx]))\n",
        "print('Phường có tốc độ tăng trưởng dân số chậm nhất:', str(df['Com_Name'][gro_min_idx]) + '/' + str(df['Dist_Name'][gro_min_idx]))"
      ],
      "execution_count": 55,
      "outputs": [
        {
          "output_type": "stream",
          "name": "stdout",
          "text": [
            "Phường có tốc độ tăng trưởng dân số nhanh nhất: Phu Huu/District 9\n",
            "Phường có tốc độ tăng trưởng dân số chậm nhất: An Khanh/District 2\n"
          ]
        }
      ]
    },
    {
      "cell_type": "markdown",
      "metadata": {
        "id": "re7N4surXl9o"
      },
      "source": [
        "##Phường có biến động dân số nhanh nhất, chậm nhất"
      ]
    },
    {
      "cell_type": "code",
      "metadata": {
        "id": "gKKMKsmaXPKM"
      },
      "source": [
        "pop_change = df['Pop_2019'] - df['Pop_2009']"
      ],
      "execution_count": 41,
      "outputs": []
    },
    {
      "cell_type": "code",
      "metadata": {
        "colab": {
          "base_uri": "https://localhost:8080/"
        },
        "id": "7BhnL4ryXtsn",
        "outputId": "8fc3c87a-7181-497e-9d9f-b3ce442276d3"
      },
      "source": [
        "change_max_idx = pop_change.idxmax()\n",
        "change_min_idx = pop_change.idxmin()\n",
        "print('Phường có biến động dân số nhanh nhất:', str(df['Com_Name'][change_max_idx]) + '/' + str(df['Dist_Name'][change_max_idx]))\n",
        "print('Phường có biến động dân số chậm nhất:', str(df['Com_Name'][change_min_idx]) + '/' + str(df['Dist_Name'][change_min_idx]))"
      ],
      "execution_count": 56,
      "outputs": [
        {
          "output_type": "stream",
          "name": "stdout",
          "text": [
            "Phường có biến động dân số nhanh nhất: Vinh Loc A/Binh Chanh\n",
            "Phường có biến động dân số chậm nhất: An Khanh/District 2\n"
          ]
        }
      ]
    },
    {
      "cell_type": "markdown",
      "metadata": {
        "id": "YTZiJvC5YMlf"
      },
      "source": [
        "##Mật độ dân số lớn nhất và bé nhất vào năm 2019"
      ]
    },
    {
      "cell_type": "code",
      "metadata": {
        "id": "gX03RKLEX17Y"
      },
      "source": [
        "pop_density = df['Pop_2019']/df['Shape_Area']"
      ],
      "execution_count": 43,
      "outputs": []
    },
    {
      "cell_type": "code",
      "metadata": {
        "colab": {
          "base_uri": "https://localhost:8080/"
        },
        "id": "D9NzRDyOY_Qp",
        "outputId": "4cc9c338-374c-4590-cdcf-4aa5575ccf84"
      },
      "source": [
        "density_max_idx = pop_density.idxmax()\n",
        "density_min_idx = pop_density.idxmin()\n",
        "print('Phường có mật độ dân số lớn nhất:', str(df['Com_Name'][density_max_idx]) + '/' + str(df['Dist_Name'][density_max_idx]))\n",
        "print('Phường có mật độ dân số lớn nhất:', str(df['Com_Name'][density_min_idx]) + '/' + str(df['Dist_Name'][density_min_idx]))"
      ],
      "execution_count": 57,
      "outputs": [
        {
          "output_type": "stream",
          "name": "stdout",
          "text": [
            "Phường có mật độ dân số lớn nhất: Ward 8/District 4\n",
            "Phường có mật độ dân số lớn nhất: Ly Nhon/Can Gio\n"
          ]
        }
      ]
    }
  ]
}