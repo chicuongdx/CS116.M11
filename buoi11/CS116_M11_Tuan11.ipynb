{
  "nbformat": 4,
  "nbformat_minor": 0,
  "metadata": {
    "colab": {
      "name": "CS116.M11.Tuan11.ipynb",
      "provenance": [],
      "collapsed_sections": []
    },
    "kernelspec": {
      "name": "python3",
      "display_name": "Python 3"
    },
    "language_info": {
      "name": "python"
    }
  },
  "cells": [
    {
      "cell_type": "markdown",
      "metadata": {
        "id": "o3NTIJOJGQrp"
      },
      "source": [
        "#Bài tập thực hành - Lập trình máy học cho python - CS116.M11\n",
        "\n",
        "\n",
        "\n",
        "MSSV: 19521299\n",
        "\n",
        "Tên: Nguyễn Chí Cường\n",
        "\n",
        "Ngày: 9/11/2021\n",
        "\n",
        "Tuần 11"
      ]
    },
    {
      "cell_type": "code",
      "metadata": {
        "id": "Dj9rPeQ6GQUC"
      },
      "source": [
        "import pandas as pd\n",
        "import numpy as np\n",
        "import matplotlib.pyplot as plt\n",
        "from sklearn.model_selection import cross_val_score, ShuffleSplit, GridSearchCV, train_test_split\n",
        "from sklearn.preprocessing import StandardScaler\n",
        "from sklearn.metrics import accuracy_score\n",
        "from sklearn.svm import SVC\n",
        "import warnings\n",
        "warnings.filterwarnings(\"ignore\")"
      ],
      "execution_count": 16,
      "outputs": []
    },
    {
      "cell_type": "code",
      "metadata": {
        "colab": {
          "base_uri": "https://localhost:8080/",
          "height": 419
        },
        "id": "cQHwwJvRIyPx",
        "outputId": "546d6396-a17b-4e9d-a871-9da1d7e253b7"
      },
      "source": [
        "df = pd.read_csv('Social_Network_Ads.csv')\n",
        "df"
      ],
      "execution_count": 5,
      "outputs": [
        {
          "output_type": "execute_result",
          "data": {
            "text/html": [
              "<div>\n",
              "<style scoped>\n",
              "    .dataframe tbody tr th:only-of-type {\n",
              "        vertical-align: middle;\n",
              "    }\n",
              "\n",
              "    .dataframe tbody tr th {\n",
              "        vertical-align: top;\n",
              "    }\n",
              "\n",
              "    .dataframe thead th {\n",
              "        text-align: right;\n",
              "    }\n",
              "</style>\n",
              "<table border=\"1\" class=\"dataframe\">\n",
              "  <thead>\n",
              "    <tr style=\"text-align: right;\">\n",
              "      <th></th>\n",
              "      <th>Age</th>\n",
              "      <th>EstimatedSalary</th>\n",
              "      <th>Purchased</th>\n",
              "    </tr>\n",
              "  </thead>\n",
              "  <tbody>\n",
              "    <tr>\n",
              "      <th>0</th>\n",
              "      <td>19</td>\n",
              "      <td>19000</td>\n",
              "      <td>0</td>\n",
              "    </tr>\n",
              "    <tr>\n",
              "      <th>1</th>\n",
              "      <td>35</td>\n",
              "      <td>20000</td>\n",
              "      <td>0</td>\n",
              "    </tr>\n",
              "    <tr>\n",
              "      <th>2</th>\n",
              "      <td>26</td>\n",
              "      <td>43000</td>\n",
              "      <td>0</td>\n",
              "    </tr>\n",
              "    <tr>\n",
              "      <th>3</th>\n",
              "      <td>27</td>\n",
              "      <td>57000</td>\n",
              "      <td>0</td>\n",
              "    </tr>\n",
              "    <tr>\n",
              "      <th>4</th>\n",
              "      <td>19</td>\n",
              "      <td>76000</td>\n",
              "      <td>0</td>\n",
              "    </tr>\n",
              "    <tr>\n",
              "      <th>...</th>\n",
              "      <td>...</td>\n",
              "      <td>...</td>\n",
              "      <td>...</td>\n",
              "    </tr>\n",
              "    <tr>\n",
              "      <th>395</th>\n",
              "      <td>46</td>\n",
              "      <td>41000</td>\n",
              "      <td>1</td>\n",
              "    </tr>\n",
              "    <tr>\n",
              "      <th>396</th>\n",
              "      <td>51</td>\n",
              "      <td>23000</td>\n",
              "      <td>1</td>\n",
              "    </tr>\n",
              "    <tr>\n",
              "      <th>397</th>\n",
              "      <td>50</td>\n",
              "      <td>20000</td>\n",
              "      <td>1</td>\n",
              "    </tr>\n",
              "    <tr>\n",
              "      <th>398</th>\n",
              "      <td>36</td>\n",
              "      <td>33000</td>\n",
              "      <td>0</td>\n",
              "    </tr>\n",
              "    <tr>\n",
              "      <th>399</th>\n",
              "      <td>49</td>\n",
              "      <td>36000</td>\n",
              "      <td>1</td>\n",
              "    </tr>\n",
              "  </tbody>\n",
              "</table>\n",
              "<p>400 rows × 3 columns</p>\n",
              "</div>"
            ],
            "text/plain": [
              "     Age  EstimatedSalary  Purchased\n",
              "0     19            19000          0\n",
              "1     35            20000          0\n",
              "2     26            43000          0\n",
              "3     27            57000          0\n",
              "4     19            76000          0\n",
              "..   ...              ...        ...\n",
              "395   46            41000          1\n",
              "396   51            23000          1\n",
              "397   50            20000          1\n",
              "398   36            33000          0\n",
              "399   49            36000          1\n",
              "\n",
              "[400 rows x 3 columns]"
            ]
          },
          "metadata": {},
          "execution_count": 5
        }
      ]
    },
    {
      "cell_type": "code",
      "metadata": {
        "id": "E0Pi1Z03JQOs"
      },
      "source": [
        "scaler = StandardScaler()\n",
        "df[['Age', 'EstimatedSalary']] = scaler.fit_transform(df[['Age', 'EstimatedSalary']])\n",
        "\n",
        "feature_, class_ = df[['Age', 'EstimatedSalary']], df['Purchased']"
      ],
      "execution_count": 6,
      "outputs": []
    },
    {
      "cell_type": "markdown",
      "metadata": {
        "id": "BrOPGEOwQRUG"
      },
      "source": [
        "# Bước 1: Hyper-Parameter SVM🥇"
      ]
    },
    {
      "cell_type": "code",
      "metadata": {
        "id": "V1OeKl_iPrIH"
      },
      "source": [
        "C = [0.1, 1, 10, 100, 1000]\n",
        "gamma = [1, 0.1, 0.01, 0.001, 0.0001]\n",
        "kernels = ['poly', 'linear', 'rbf', 'sigmoid']\n",
        "\n",
        "param_grid ={'C': C, 'gamma': gamma, 'kernel': kernels}"
      ],
      "execution_count": 41,
      "outputs": []
    },
    {
      "cell_type": "markdown",
      "metadata": {
        "id": "xy6g_AI_Okn8"
      },
      "source": [
        "#Bước 2: Chia dữ liệu Train, Validation, Test = 6:2:2🥈"
      ]
    },
    {
      "cell_type": "code",
      "metadata": {
        "id": "t5UCRYXFIPfc"
      },
      "source": [
        "def split_data(feature_, class_):\n",
        "  ft, x_test, cls, y_test = train_test_split(feature_, class_, test_size=0.2, random_state=42)\n",
        "  x_train, x_val, y_train, y_val = train_test_split(ft, cls, test_size=0.25, random_state=42)\n",
        "\n",
        "  return x_train, y_train, x_val, y_val, x_test, y_test\n",
        "\n",
        "x_train, y_train, x_val, y_val, x_test, y_test = split_data(feature_, class_)"
      ],
      "execution_count": 62,
      "outputs": []
    },
    {
      "cell_type": "markdown",
      "metadata": {
        "id": "FJQmlc9XOwpr"
      },
      "source": [
        "#Bước 3: Tình best Hyper Parameter 🥉"
      ]
    },
    {
      "cell_type": "code",
      "metadata": {
        "colab": {
          "base_uri": "https://localhost:8080/"
        },
        "id": "Jk-eTBt9IPxU",
        "outputId": "09e6a14b-26e7-42b5-faa0-17eff4624f00"
      },
      "source": [
        "#Use GridSearchCV and don't use data validation\n",
        "train_data = np.concatenate((x_train, x_val)), np.concatenate((y_train, y_val))\n",
        "grid_search = GridSearchCV(SVC(), param_grid, refit = True, cv = 5)\n",
        "grid_search.fit(train_data[0], train_data[1])"
      ],
      "execution_count": 63,
      "outputs": [
        {
          "output_type": "execute_result",
          "data": {
            "text/plain": [
              "GridSearchCV(cv=5, estimator=SVC(),\n",
              "             param_grid={'C': [0.1, 1, 10, 100, 1000],\n",
              "                         'gamma': [1, 0.1, 0.01, 0.001, 0.0001],\n",
              "                         'kernel': ['poly', 'linear', 'rbf', 'sigmoid']})"
            ]
          },
          "metadata": {},
          "execution_count": 63
        }
      ]
    },
    {
      "cell_type": "code",
      "metadata": {
        "colab": {
          "base_uri": "https://localhost:8080/"
        },
        "id": "sC4Dt8o6Vmgh",
        "outputId": "3caaebe7-0da8-42ab-b950-0ecde54e99d7"
      },
      "source": [
        "print(grid_search.best_params_, \"is best parameter for this data.\")\n",
        "print(grid_search.best_score_, \"is best accuracy\")"
      ],
      "execution_count": 72,
      "outputs": [
        {
          "output_type": "stream",
          "name": "stdout",
          "text": [
            "{'C': 1000, 'gamma': 0.1, 'kernel': 'rbf'} is best parameter for this data.\n",
            "0.90625 is best accuracy\n"
          ]
        }
      ]
    },
    {
      "cell_type": "code",
      "metadata": {
        "id": "FfCUeu_CQD3b"
      },
      "source": [
        "#code tay\n",
        "def GridSearchSVM(param_grid, train, val):\n",
        "\n",
        "  def update_paramater(C, gamma, kernel):\n",
        "    return {'C': C, 'gamma': gamma, 'kernel': kernel}\n",
        "\n",
        "  accuracy = 0\n",
        "  parameter = {}\n",
        "  model = SVC()\n",
        "\n",
        "  for C in param_grid['C']:\n",
        "    for gamma in param_grid['gamma']:\n",
        "      for kernel in param_grid['kernel']:\n",
        "        \n",
        "        grid = SVC(C=C, gamma=gamma, kernel=kernel)\n",
        "        grid.fit(train[0], train[1])\n",
        "        predict = grid.predict(val[0])\n",
        "        acc = accuracy_score(val[1], predict)\n",
        "\n",
        "        if acc > accuracy:\n",
        "          accuracy = acc\n",
        "          parameter = update_paramater(C, gamma, kernel)\n",
        "          model = grid\n",
        "      \n",
        "  return model, parameter, accuracy"
      ],
      "execution_count": 65,
      "outputs": []
    },
    {
      "cell_type": "markdown",
      "metadata": {
        "id": "Ybt9VOPAW_oZ"
      },
      "source": [
        "#Bước 4: Tính Accuracy cho tập test ❄"
      ]
    },
    {
      "cell_type": "code",
      "metadata": {
        "colab": {
          "base_uri": "https://localhost:8080/"
        },
        "id": "KOBxEwocVJYM",
        "outputId": "1085cf10-f11a-4774-edee-1b77f27e6d17"
      },
      "source": [
        "#model by gridsearch in sklearn\n",
        "skl_model = grid_search.best_estimator_\n",
        "skl_acc = accuracy_score(skl_model.predict(x_test), y_test)\n",
        "print(\"Giá trị accuracy trên tập test:\", skl_acc)"
      ],
      "execution_count": 66,
      "outputs": [
        {
          "output_type": "stream",
          "name": "stdout",
          "text": [
            "Giá trị accuracy trên tập test: 0.925\n"
          ]
        }
      ]
    },
    {
      "cell_type": "code",
      "metadata": {
        "colab": {
          "base_uri": "https://localhost:8080/"
        },
        "id": "Yp3WOGm1Xv9I",
        "outputId": "dff24ce2-db94-4084-b74f-12dc6c0b1329"
      },
      "source": [
        "#model tự kiếm\n",
        "my_model, my_para, acc = GridSearchSVM(param_grid, [x_train, y_train], [x_val, y_val])\n",
        "my_acc = accuracy_score(my_model.predict(x_test), y_test)\n",
        "print(\"Giá trị accuracy trên tập test:\", my_acc)"
      ],
      "execution_count": 70,
      "outputs": [
        {
          "output_type": "stream",
          "name": "stdout",
          "text": [
            "Giá trị accuracy trên tập test: 0.925\n"
          ]
        }
      ]
    },
    {
      "cell_type": "markdown",
      "metadata": {
        "id": "4jXi-fk-YTy0"
      },
      "source": [
        "#End"
      ]
    }
  ]
}