{
  "nbformat": 4,
  "nbformat_minor": 0,
  "metadata": {
    "colab": {
      "name": "CS116.M11.Tuan8.ipynb",
      "provenance": [],
      "collapsed_sections": []
    },
    "kernelspec": {
      "name": "python3",
      "display_name": "Python 3"
    },
    "language_info": {
      "name": "python"
    }
  },
  "cells": [
    {
      "cell_type": "markdown",
      "metadata": {
        "id": "RA42hsrYKjVJ"
      },
      "source": [
        "#Bài tập thực hành - Lập trình máy học cho python - CS116.M11\n",
        "\n",
        "\n",
        "\n",
        "MSSV: 19521299\n",
        "\n",
        "Tên: Nguyễn Chí Cường\n",
        "\n",
        "Ngày: 26/10/2021\n",
        "\n",
        "Linear Regression Đơn - Đa biến (Salary Data - 50 Startup)\n",
        "\n",
        "Tuần 8"
      ]
    },
    {
      "cell_type": "markdown",
      "metadata": {
        "id": "JGa1ll50MzH_"
      },
      "source": [
        "#Bài 1: Linear Đơn biến"
      ]
    },
    {
      "cell_type": "code",
      "metadata": {
        "id": "SgAKYeTkIqAq"
      },
      "source": [
        "#import thư viên\n",
        "import pandas as pd\n",
        "import numpy as np\n",
        "import matplotlib.pyplot as plt\n",
        "from sklearn.linear_model import LinearRegression\n",
        "from sklearn.model_selection import train_test_split\n",
        "from sklearn.model_selection import cross_val_score, ShuffleSplit\n",
        "from sklearn.metrics import mean_squared_error as mse\n",
        "from sklearn.metrics import mean_absolute_error as mae\n",
        "from sklearn.metrics import r2_score\n",
        "import warnings\n",
        "warnings.filterwarnings(\"ignore\")"
      ],
      "execution_count": null,
      "outputs": []
    },
    {
      "cell_type": "code",
      "metadata": {
        "colab": {
          "base_uri": "https://localhost:8080/",
          "height": 979
        },
        "id": "oC5pOgSwML-4",
        "outputId": "cedca9b1-d00a-4960-eaaa-b446e7004667"
      },
      "source": [
        "#Read data\n",
        "df_salary = pd.read_csv('Salary_Data.csv')\n",
        "df_salary"
      ],
      "execution_count": null,
      "outputs": [
        {
          "output_type": "execute_result",
          "data": {
            "text/html": [
              "<div>\n",
              "<style scoped>\n",
              "    .dataframe tbody tr th:only-of-type {\n",
              "        vertical-align: middle;\n",
              "    }\n",
              "\n",
              "    .dataframe tbody tr th {\n",
              "        vertical-align: top;\n",
              "    }\n",
              "\n",
              "    .dataframe thead th {\n",
              "        text-align: right;\n",
              "    }\n",
              "</style>\n",
              "<table border=\"1\" class=\"dataframe\">\n",
              "  <thead>\n",
              "    <tr style=\"text-align: right;\">\n",
              "      <th></th>\n",
              "      <th>YearsExperience</th>\n",
              "      <th>Salary</th>\n",
              "    </tr>\n",
              "  </thead>\n",
              "  <tbody>\n",
              "    <tr>\n",
              "      <th>0</th>\n",
              "      <td>1.1</td>\n",
              "      <td>39343.0</td>\n",
              "    </tr>\n",
              "    <tr>\n",
              "      <th>1</th>\n",
              "      <td>1.3</td>\n",
              "      <td>46205.0</td>\n",
              "    </tr>\n",
              "    <tr>\n",
              "      <th>2</th>\n",
              "      <td>1.5</td>\n",
              "      <td>37731.0</td>\n",
              "    </tr>\n",
              "    <tr>\n",
              "      <th>3</th>\n",
              "      <td>2.0</td>\n",
              "      <td>43525.0</td>\n",
              "    </tr>\n",
              "    <tr>\n",
              "      <th>4</th>\n",
              "      <td>2.2</td>\n",
              "      <td>39891.0</td>\n",
              "    </tr>\n",
              "    <tr>\n",
              "      <th>5</th>\n",
              "      <td>2.9</td>\n",
              "      <td>56642.0</td>\n",
              "    </tr>\n",
              "    <tr>\n",
              "      <th>6</th>\n",
              "      <td>3.0</td>\n",
              "      <td>60150.0</td>\n",
              "    </tr>\n",
              "    <tr>\n",
              "      <th>7</th>\n",
              "      <td>3.2</td>\n",
              "      <td>54445.0</td>\n",
              "    </tr>\n",
              "    <tr>\n",
              "      <th>8</th>\n",
              "      <td>3.2</td>\n",
              "      <td>64445.0</td>\n",
              "    </tr>\n",
              "    <tr>\n",
              "      <th>9</th>\n",
              "      <td>3.7</td>\n",
              "      <td>57189.0</td>\n",
              "    </tr>\n",
              "    <tr>\n",
              "      <th>10</th>\n",
              "      <td>3.9</td>\n",
              "      <td>63218.0</td>\n",
              "    </tr>\n",
              "    <tr>\n",
              "      <th>11</th>\n",
              "      <td>4.0</td>\n",
              "      <td>55794.0</td>\n",
              "    </tr>\n",
              "    <tr>\n",
              "      <th>12</th>\n",
              "      <td>4.0</td>\n",
              "      <td>56957.0</td>\n",
              "    </tr>\n",
              "    <tr>\n",
              "      <th>13</th>\n",
              "      <td>4.1</td>\n",
              "      <td>57081.0</td>\n",
              "    </tr>\n",
              "    <tr>\n",
              "      <th>14</th>\n",
              "      <td>4.5</td>\n",
              "      <td>61111.0</td>\n",
              "    </tr>\n",
              "    <tr>\n",
              "      <th>15</th>\n",
              "      <td>4.9</td>\n",
              "      <td>67938.0</td>\n",
              "    </tr>\n",
              "    <tr>\n",
              "      <th>16</th>\n",
              "      <td>5.1</td>\n",
              "      <td>66029.0</td>\n",
              "    </tr>\n",
              "    <tr>\n",
              "      <th>17</th>\n",
              "      <td>5.3</td>\n",
              "      <td>83088.0</td>\n",
              "    </tr>\n",
              "    <tr>\n",
              "      <th>18</th>\n",
              "      <td>5.9</td>\n",
              "      <td>81363.0</td>\n",
              "    </tr>\n",
              "    <tr>\n",
              "      <th>19</th>\n",
              "      <td>6.0</td>\n",
              "      <td>93940.0</td>\n",
              "    </tr>\n",
              "    <tr>\n",
              "      <th>20</th>\n",
              "      <td>6.8</td>\n",
              "      <td>91738.0</td>\n",
              "    </tr>\n",
              "    <tr>\n",
              "      <th>21</th>\n",
              "      <td>7.1</td>\n",
              "      <td>98273.0</td>\n",
              "    </tr>\n",
              "    <tr>\n",
              "      <th>22</th>\n",
              "      <td>7.9</td>\n",
              "      <td>101302.0</td>\n",
              "    </tr>\n",
              "    <tr>\n",
              "      <th>23</th>\n",
              "      <td>8.2</td>\n",
              "      <td>113812.0</td>\n",
              "    </tr>\n",
              "    <tr>\n",
              "      <th>24</th>\n",
              "      <td>8.7</td>\n",
              "      <td>109431.0</td>\n",
              "    </tr>\n",
              "    <tr>\n",
              "      <th>25</th>\n",
              "      <td>9.0</td>\n",
              "      <td>105582.0</td>\n",
              "    </tr>\n",
              "    <tr>\n",
              "      <th>26</th>\n",
              "      <td>9.5</td>\n",
              "      <td>116969.0</td>\n",
              "    </tr>\n",
              "    <tr>\n",
              "      <th>27</th>\n",
              "      <td>9.6</td>\n",
              "      <td>112635.0</td>\n",
              "    </tr>\n",
              "    <tr>\n",
              "      <th>28</th>\n",
              "      <td>10.3</td>\n",
              "      <td>122391.0</td>\n",
              "    </tr>\n",
              "    <tr>\n",
              "      <th>29</th>\n",
              "      <td>10.5</td>\n",
              "      <td>121872.0</td>\n",
              "    </tr>\n",
              "  </tbody>\n",
              "</table>\n",
              "</div>"
            ],
            "text/plain": [
              "    YearsExperience    Salary\n",
              "0               1.1   39343.0\n",
              "1               1.3   46205.0\n",
              "2               1.5   37731.0\n",
              "3               2.0   43525.0\n",
              "4               2.2   39891.0\n",
              "5               2.9   56642.0\n",
              "6               3.0   60150.0\n",
              "7               3.2   54445.0\n",
              "8               3.2   64445.0\n",
              "9               3.7   57189.0\n",
              "10              3.9   63218.0\n",
              "11              4.0   55794.0\n",
              "12              4.0   56957.0\n",
              "13              4.1   57081.0\n",
              "14              4.5   61111.0\n",
              "15              4.9   67938.0\n",
              "16              5.1   66029.0\n",
              "17              5.3   83088.0\n",
              "18              5.9   81363.0\n",
              "19              6.0   93940.0\n",
              "20              6.8   91738.0\n",
              "21              7.1   98273.0\n",
              "22              7.9  101302.0\n",
              "23              8.2  113812.0\n",
              "24              8.7  109431.0\n",
              "25              9.0  105582.0\n",
              "26              9.5  116969.0\n",
              "27              9.6  112635.0\n",
              "28             10.3  122391.0\n",
              "29             10.5  121872.0"
            ]
          },
          "metadata": {},
          "execution_count": 5
        }
      ]
    },
    {
      "cell_type": "code",
      "metadata": {
        "id": "cnH96zeVMm4N"
      },
      "source": [
        "data_simple = np.array(df_salary['YearsExperience']).reshape(-1, 1)\n",
        "X_train, X_test, y_train, y_test = train_test_split(data_simple,\n",
        "                                                    df_salary['Salary'],test_size=0.2, random_state=42)"
      ],
      "execution_count": null,
      "outputs": []
    },
    {
      "cell_type": "code",
      "metadata": {
        "id": "Pxuk54hMNhHX"
      },
      "source": [
        "def data_show(train, test):\n",
        "  plt.plot(train[0], train[1], 'x', color='red')\n",
        "  plt.plot(test[0], test[1], 'o', color='blue')\n",
        "  plt.title('Data Salary ')\n",
        "  plt.xlabel('Years Experience')\n",
        "  plt.ylabel('Salary')\n",
        "  plt.show()"
      ],
      "execution_count": null,
      "outputs": []
    },
    {
      "cell_type": "code",
      "metadata": {
        "colab": {
          "base_uri": "https://localhost:8080/",
          "height": 295
        },
        "id": "yWgXBVgBSimv",
        "outputId": "a5fff656-9db2-4cfd-bda9-e12123a5e7a5"
      },
      "source": [
        "data_show([X_train, y_train], [X_test, y_test])"
      ],
      "execution_count": null,
      "outputs": [
        {
          "output_type": "display_data",
          "data": {
            "image/png": "[encoded data removed]",
            "text/plain": [
              "<Figure size 432x288 with 1 Axes>"
            ]
          },
          "metadata": {
            "needs_background": "light"
          }
        }
      ]
    },
    {
      "cell_type": "code",
      "metadata": {
        "id": "TWFO28Q8TQX0"
      },
      "source": [
        "def show_MSE(estimated, test):\n",
        "    value1 = mse(estimated, test)\n",
        "    value2 = mae(estimated, test)\n",
        "    print('Mean squared error:', value1)\n",
        "    print('Mean absolute error:', value2)\n",
        "\n",
        "def draw_plot(X, y, estmated, name):\n",
        "  r_sq = r2_score(estmated, y)\n",
        "  print(name + ':')\n",
        "  print('R squre:', r_sq)\n",
        "  show_MSE(estmated, y)\n",
        "  plt.plot(X, y, \"x\", color='red')\n",
        "  plt.plot(X, estmated)\n",
        "  plt.title(name)\n",
        "  plt.xlabel('Years Experience')\n",
        "  plt.ylabel('Salary')\n",
        "  plt.show()\n",
        "\n",
        "def draw_full(prediction):\n",
        "  plt.plot(X_train, y_train, \"x\", color='red')\n",
        "  plt.plot(X_test, y_test, 'o', color='blue')\n",
        "  plt.plot(X_train, prediction)\n",
        "  plt.title(\"-----------------------Full data-----------------------\")\n",
        "  plt.xlabel('Years Experience')\n",
        "  plt.ylabel('Salary')\n",
        "  plt.show()"
      ],
      "execution_count": null,
      "outputs": []
    },
    {
      "cell_type": "code",
      "metadata": {
        "id": "tBOAPtJwTwm7"
      },
      "source": [
        "from sklearn.preprocessing import PolynomialFeatures\n",
        "\n",
        "model = LinearRegression()\n",
        "def polynomial(X, y, number):\n",
        "  polynomial_features= PolynomialFeatures(degree=number)\n",
        "  x_poly = polynomial_features.fit_transform(X)\n",
        "  #Train data\n",
        "  pol_LR = model.fit(x_poly, y)\n",
        "  prediction_train = pol_LR.predict(x_poly)\n",
        "  draw_plot(X, y, prediction_train, 'data train')\n",
        "\n",
        "  #Test_data\n",
        "  X_test_poly = polynomial_features.fit_transform(X_test)\n",
        "  prediction_test = pol_LR.predict(X_test_poly)\n",
        "  draw_plot(X_test, y_test, prediction_test, 'data test')\n",
        "\n",
        "  print(\"Full data-------------------------------------\")\n",
        "  estimated_full = np.concatenate((prediction_train, prediction_test))\n",
        "  draw_full(prediction_train)"
      ],
      "execution_count": null,
      "outputs": []
    },
    {
      "cell_type": "code",
      "metadata": {
        "colab": {
          "base_uri": "https://localhost:8080/",
          "height": 1000
        },
        "id": "YLu6wZsNVHkW",
        "outputId": "3700f4c5-5f17-4cdf-a68a-b280592c49ca"
      },
      "source": [
        "#loại hồi quy y = theta1X + theta0\n",
        "polynomial(X_train, y_train, 1)"
      ],
      "execution_count": null,
      "outputs": [
        {
          "output_type": "stream",
          "name": "stdout",
          "text": [
            "data train:\n",
            "R squre: 0.963236530497694\n",
            "Mean squared error: 27102249.731261358\n",
            "Mean absolute error: 4221.046734449731\n"
          ]
        },
        {
          "output_type": "display_data",
          "data": {
            "image/png": "[encoded data removed]",
            "text/plain": [
              "<Figure size 432x288 with 1 Axes>"
            ]
          },
          "metadata": {
            "needs_background": "light"
          }
        },
        {
          "output_type": "stream",
          "name": "stdout",
          "text": [
            "data test:\n",
            "R squre: 0.8961838737587332\n",
            "Mean squared error: 49830096.85590827\n",
            "Mean absolute error: 6286.453830757745\n"
          ]
        },
        {
          "output_type": "display_data",
          "data": {
            "image/png": "[encoded data removed]",
            "text/plain": [
              "<Figure size 432x288 with 1 Axes>"
            ]
          },
          "metadata": {
            "needs_background": "light"
          }
        },
        {
          "output_type": "stream",
          "name": "stdout",
          "text": [
            "Full data-------------------------------------\n"
          ]
        },
        {
          "output_type": "display_data",
          "data": {
            "image/png": "[encoded data removed]",
            "text/plain": [
              "<Figure size 432x288 with 1 Axes>"
            ]
          },
          "metadata": {
            "needs_background": "light"
          }
        }
      ]
    },
    {
      "cell_type": "code",
      "metadata": {
        "colab": {
          "base_uri": "https://localhost:8080/",
          "height": 1000
        },
        "id": "hPO7KiOYVOZi",
        "outputId": "177b266b-1f3e-4e1c-a456-17b6bdca3a46"
      },
      "source": [
        "#loại hồi quy y = theta2X^2 + theta1X + theta0\n",
        "polynomial(X_train, y_train, 2)"
      ],
      "execution_count": null,
      "outputs": [
        {
          "output_type": "stream",
          "name": "stdout",
          "text": [
            "data train:\n",
            "R squre: 0.963737036587951\n",
            "Mean squared error: 26746185.58722925\n",
            "Mean absolute error: 4304.350295127767\n"
          ]
        },
        {
          "output_type": "display_data",
          "data": {
            "image/png": "[encoded data removed]",
            "text/plain": [
              "<Figure size 432x288 with 1 Axes>"
            ]
          },
          "metadata": {
            "needs_background": "light"
          }
        },
        {
          "output_type": "stream",
          "name": "stdout",
          "text": [
            "data test:\n",
            "R squre: 0.8930921952051858\n",
            "Mean squared error: 52527916.36877499\n",
            "Mean absolute error: 6381.371429702192\n"
          ]
        },
        {
          "output_type": "display_data",
          "data": {
            "image/png": "[encoded data removed]",
            "text/plain": [
              "<Figure size 432x288 with 1 Axes>"
            ]
          },
          "metadata": {
            "needs_background": "light"
          }
        },
        {
          "output_type": "stream",
          "name": "stdout",
          "text": [
            "Full data-------------------------------------\n"
          ]
        },
        {
          "output_type": "display_data",
          "data": {
            "image/png": "[encoded data removed]",
            "text/plain": [
              "<Figure size 432x288 with 1 Axes>"
            ]
          },
          "metadata": {
            "needs_background": "light"
          }
        }
      ]
    },
    {
      "cell_type": "markdown",
      "metadata": {
        "id": "zcxsXS5zithq"
      },
      "source": [
        "#Bài 2: Linear Đa Biến"
      ]
    },
    {
      "cell_type": "code",
      "metadata": {
        "id": "tI2UszPJFtXZ"
      },
      "source": [
        "from sklearn.preprocessing import LabelEncoder\n",
        "le = LabelEncoder()"
      ],
      "execution_count": 135,
      "outputs": []
    },
    {
      "cell_type": "code",
      "metadata": {
        "id": "KQRgW5EciwQh",
        "colab": {
          "base_uri": "https://localhost:8080/",
          "height": 1000
        },
        "outputId": "9ba1b34f-e6bc-4683-eff5-d57c23872cc9"
      },
      "source": [
        "df_startup = pd.read_csv('50_Startups.csv')\n",
        "df_startup"
      ],
      "execution_count": 146,
      "outputs": [
        {
          "output_type": "execute_result",
          "data": {
            "text/html": [
              "<div>\n",
              "<style scoped>\n",
              "    .dataframe tbody tr th:only-of-type {\n",
              "        vertical-align: middle;\n",
              "    }\n",
              "\n",
              "    .dataframe tbody tr th {\n",
              "        vertical-align: top;\n",
              "    }\n",
              "\n",
              "    .dataframe thead th {\n",
              "        text-align: right;\n",
              "    }\n",
              "</style>\n",
              "<table border=\"1\" class=\"dataframe\">\n",
              "  <thead>\n",
              "    <tr style=\"text-align: right;\">\n",
              "      <th></th>\n",
              "      <th>R&amp;D Spend</th>\n",
              "      <th>Administration</th>\n",
              "      <th>Marketing Spend</th>\n",
              "      <th>State</th>\n",
              "      <th>Profit</th>\n",
              "    </tr>\n",
              "  </thead>\n",
              "  <tbody>\n",
              "    <tr>\n",
              "      <th>0</th>\n",
              "      <td>165349.20</td>\n",
              "      <td>136897.80</td>\n",
              "      <td>471784.10</td>\n",
              "      <td>New York</td>\n",
              "      <td>192261.83</td>\n",
              "    </tr>\n",
              "    <tr>\n",
              "      <th>1</th>\n",
              "      <td>162597.70</td>\n",
              "      <td>151377.59</td>\n",
              "      <td>443898.53</td>\n",
              "      <td>California</td>\n",
              "      <td>191792.06</td>\n",
              "    </tr>\n",
              "    <tr>\n",
              "      <th>2</th>\n",
              "      <td>153441.51</td>\n",
              "      <td>101145.55</td>\n",
              "      <td>407934.54</td>\n",
              "      <td>Florida</td>\n",
              "      <td>191050.39</td>\n",
              "    </tr>\n",
              "    <tr>\n",
              "      <th>3</th>\n",
              "      <td>144372.41</td>\n",
              "      <td>118671.85</td>\n",
              "      <td>383199.62</td>\n",
              "      <td>New York</td>\n",
              "      <td>182901.99</td>\n",
              "    </tr>\n",
              "    <tr>\n",
              "      <th>4</th>\n",
              "      <td>142107.34</td>\n",
              "      <td>91391.77</td>\n",
              "      <td>366168.42</td>\n",
              "      <td>Florida</td>\n",
              "      <td>166187.94</td>\n",
              "    </tr>\n",
              "    <tr>\n",
              "      <th>5</th>\n",
              "      <td>131876.90</td>\n",
              "      <td>99814.71</td>\n",
              "      <td>362861.36</td>\n",
              "      <td>New York</td>\n",
              "      <td>156991.12</td>\n",
              "    </tr>\n",
              "    <tr>\n",
              "      <th>6</th>\n",
              "      <td>134615.46</td>\n",
              "      <td>147198.87</td>\n",
              "      <td>127716.82</td>\n",
              "      <td>California</td>\n",
              "      <td>156122.51</td>\n",
              "    </tr>\n",
              "    <tr>\n",
              "      <th>7</th>\n",
              "      <td>130298.13</td>\n",
              "      <td>145530.06</td>\n",
              "      <td>323876.68</td>\n",
              "      <td>Florida</td>\n",
              "      <td>155752.60</td>\n",
              "    </tr>\n",
              "    <tr>\n",
              "      <th>8</th>\n",
              "      <td>120542.52</td>\n",
              "      <td>148718.95</td>\n",
              "      <td>311613.29</td>\n",
              "      <td>New York</td>\n",
              "      <td>152211.77</td>\n",
              "    </tr>\n",
              "    <tr>\n",
              "      <th>9</th>\n",
              "      <td>123334.88</td>\n",
              "      <td>108679.17</td>\n",
              "      <td>304981.62</td>\n",
              "      <td>California</td>\n",
              "      <td>149759.96</td>\n",
              "    </tr>\n",
              "    <tr>\n",
              "      <th>10</th>\n",
              "      <td>101913.08</td>\n",
              "      <td>110594.11</td>\n",
              "      <td>229160.95</td>\n",
              "      <td>Florida</td>\n",
              "      <td>146121.95</td>\n",
              "    </tr>\n",
              "    <tr>\n",
              "      <th>11</th>\n",
              "      <td>100671.96</td>\n",
              "      <td>91790.61</td>\n",
              "      <td>249744.55</td>\n",
              "      <td>California</td>\n",
              "      <td>144259.40</td>\n",
              "    </tr>\n",
              "    <tr>\n",
              "      <th>12</th>\n",
              "      <td>93863.75</td>\n",
              "      <td>127320.38</td>\n",
              "      <td>249839.44</td>\n",
              "      <td>Florida</td>\n",
              "      <td>141585.52</td>\n",
              "    </tr>\n",
              "    <tr>\n",
              "      <th>13</th>\n",
              "      <td>91992.39</td>\n",
              "      <td>135495.07</td>\n",
              "      <td>252664.93</td>\n",
              "      <td>California</td>\n",
              "      <td>134307.35</td>\n",
              "    </tr>\n",
              "    <tr>\n",
              "      <th>14</th>\n",
              "      <td>119943.24</td>\n",
              "      <td>156547.42</td>\n",
              "      <td>256512.92</td>\n",
              "      <td>Florida</td>\n",
              "      <td>132602.65</td>\n",
              "    </tr>\n",
              "    <tr>\n",
              "      <th>15</th>\n",
              "      <td>114523.61</td>\n",
              "      <td>122616.84</td>\n",
              "      <td>261776.23</td>\n",
              "      <td>New York</td>\n",
              "      <td>129917.04</td>\n",
              "    </tr>\n",
              "    <tr>\n",
              "      <th>16</th>\n",
              "      <td>78013.11</td>\n",
              "      <td>121597.55</td>\n",
              "      <td>264346.06</td>\n",
              "      <td>California</td>\n",
              "      <td>126992.93</td>\n",
              "    </tr>\n",
              "    <tr>\n",
              "      <th>17</th>\n",
              "      <td>94657.16</td>\n",
              "      <td>145077.58</td>\n",
              "      <td>282574.31</td>\n",
              "      <td>New York</td>\n",
              "      <td>125370.37</td>\n",
              "    </tr>\n",
              "    <tr>\n",
              "      <th>18</th>\n",
              "      <td>91749.16</td>\n",
              "      <td>114175.79</td>\n",
              "      <td>294919.57</td>\n",
              "      <td>Florida</td>\n",
              "      <td>124266.90</td>\n",
              "    </tr>\n",
              "    <tr>\n",
              "      <th>19</th>\n",
              "      <td>86419.70</td>\n",
              "      <td>153514.11</td>\n",
              "      <td>0.00</td>\n",
              "      <td>New York</td>\n",
              "      <td>122776.86</td>\n",
              "    </tr>\n",
              "    <tr>\n",
              "      <th>20</th>\n",
              "      <td>76253.86</td>\n",
              "      <td>113867.30</td>\n",
              "      <td>298664.47</td>\n",
              "      <td>California</td>\n",
              "      <td>118474.03</td>\n",
              "    </tr>\n",
              "    <tr>\n",
              "      <th>21</th>\n",
              "      <td>78389.47</td>\n",
              "      <td>153773.43</td>\n",
              "      <td>299737.29</td>\n",
              "      <td>New York</td>\n",
              "      <td>111313.02</td>\n",
              "    </tr>\n",
              "    <tr>\n",
              "      <th>22</th>\n",
              "      <td>73994.56</td>\n",
              "      <td>122782.75</td>\n",
              "      <td>303319.26</td>\n",
              "      <td>Florida</td>\n",
              "      <td>110352.25</td>\n",
              "    </tr>\n",
              "    <tr>\n",
              "      <th>23</th>\n",
              "      <td>67532.53</td>\n",
              "      <td>105751.03</td>\n",
              "      <td>304768.73</td>\n",
              "      <td>Florida</td>\n",
              "      <td>108733.99</td>\n",
              "    </tr>\n",
              "    <tr>\n",
              "      <th>24</th>\n",
              "      <td>77044.01</td>\n",
              "      <td>99281.34</td>\n",
              "      <td>140574.81</td>\n",
              "      <td>New York</td>\n",
              "      <td>108552.04</td>\n",
              "    </tr>\n",
              "    <tr>\n",
              "      <th>25</th>\n",
              "      <td>64664.71</td>\n",
              "      <td>139553.16</td>\n",
              "      <td>137962.62</td>\n",
              "      <td>California</td>\n",
              "      <td>107404.34</td>\n",
              "    </tr>\n",
              "    <tr>\n",
              "      <th>26</th>\n",
              "      <td>75328.87</td>\n",
              "      <td>144135.98</td>\n",
              "      <td>134050.07</td>\n",
              "      <td>Florida</td>\n",
              "      <td>105733.54</td>\n",
              "    </tr>\n",
              "    <tr>\n",
              "      <th>27</th>\n",
              "      <td>72107.60</td>\n",
              "      <td>127864.55</td>\n",
              "      <td>353183.81</td>\n",
              "      <td>New York</td>\n",
              "      <td>105008.31</td>\n",
              "    </tr>\n",
              "    <tr>\n",
              "      <th>28</th>\n",
              "      <td>66051.52</td>\n",
              "      <td>182645.56</td>\n",
              "      <td>118148.20</td>\n",
              "      <td>Florida</td>\n",
              "      <td>103282.38</td>\n",
              "    </tr>\n",
              "    <tr>\n",
              "      <th>29</th>\n",
              "      <td>65605.48</td>\n",
              "      <td>153032.06</td>\n",
              "      <td>107138.38</td>\n",
              "      <td>New York</td>\n",
              "      <td>101004.64</td>\n",
              "    </tr>\n",
              "    <tr>\n",
              "      <th>30</th>\n",
              "      <td>61994.48</td>\n",
              "      <td>115641.28</td>\n",
              "      <td>91131.24</td>\n",
              "      <td>Florida</td>\n",
              "      <td>99937.59</td>\n",
              "    </tr>\n",
              "    <tr>\n",
              "      <th>31</th>\n",
              "      <td>61136.38</td>\n",
              "      <td>152701.92</td>\n",
              "      <td>88218.23</td>\n",
              "      <td>New York</td>\n",
              "      <td>97483.56</td>\n",
              "    </tr>\n",
              "    <tr>\n",
              "      <th>32</th>\n",
              "      <td>63408.86</td>\n",
              "      <td>129219.61</td>\n",
              "      <td>46085.25</td>\n",
              "      <td>California</td>\n",
              "      <td>97427.84</td>\n",
              "    </tr>\n",
              "    <tr>\n",
              "      <th>33</th>\n",
              "      <td>55493.95</td>\n",
              "      <td>103057.49</td>\n",
              "      <td>214634.81</td>\n",
              "      <td>Florida</td>\n",
              "      <td>96778.92</td>\n",
              "    </tr>\n",
              "    <tr>\n",
              "      <th>34</th>\n",
              "      <td>46426.07</td>\n",
              "      <td>157693.92</td>\n",
              "      <td>210797.67</td>\n",
              "      <td>California</td>\n",
              "      <td>96712.80</td>\n",
              "    </tr>\n",
              "    <tr>\n",
              "      <th>35</th>\n",
              "      <td>46014.02</td>\n",
              "      <td>85047.44</td>\n",
              "      <td>205517.64</td>\n",
              "      <td>New York</td>\n",
              "      <td>96479.51</td>\n",
              "    </tr>\n",
              "    <tr>\n",
              "      <th>36</th>\n",
              "      <td>28663.76</td>\n",
              "      <td>127056.21</td>\n",
              "      <td>201126.82</td>\n",
              "      <td>Florida</td>\n",
              "      <td>90708.19</td>\n",
              "    </tr>\n",
              "    <tr>\n",
              "      <th>37</th>\n",
              "      <td>44069.95</td>\n",
              "      <td>51283.14</td>\n",
              "      <td>197029.42</td>\n",
              "      <td>California</td>\n",
              "      <td>89949.14</td>\n",
              "    </tr>\n",
              "    <tr>\n",
              "      <th>38</th>\n",
              "      <td>20229.59</td>\n",
              "      <td>65947.93</td>\n",
              "      <td>185265.10</td>\n",
              "      <td>New York</td>\n",
              "      <td>81229.06</td>\n",
              "    </tr>\n",
              "    <tr>\n",
              "      <th>39</th>\n",
              "      <td>38558.51</td>\n",
              "      <td>82982.09</td>\n",
              "      <td>174999.30</td>\n",
              "      <td>California</td>\n",
              "      <td>81005.76</td>\n",
              "    </tr>\n",
              "    <tr>\n",
              "      <th>40</th>\n",
              "      <td>28754.33</td>\n",
              "      <td>118546.05</td>\n",
              "      <td>172795.67</td>\n",
              "      <td>California</td>\n",
              "      <td>78239.91</td>\n",
              "    </tr>\n",
              "    <tr>\n",
              "      <th>41</th>\n",
              "      <td>27892.92</td>\n",
              "      <td>84710.77</td>\n",
              "      <td>164470.71</td>\n",
              "      <td>Florida</td>\n",
              "      <td>77798.83</td>\n",
              "    </tr>\n",
              "    <tr>\n",
              "      <th>42</th>\n",
              "      <td>23640.93</td>\n",
              "      <td>96189.63</td>\n",
              "      <td>148001.11</td>\n",
              "      <td>California</td>\n",
              "      <td>71498.49</td>\n",
              "    </tr>\n",
              "    <tr>\n",
              "      <th>43</th>\n",
              "      <td>15505.73</td>\n",
              "      <td>127382.30</td>\n",
              "      <td>35534.17</td>\n",
              "      <td>New York</td>\n",
              "      <td>69758.98</td>\n",
              "    </tr>\n",
              "    <tr>\n",
              "      <th>44</th>\n",
              "      <td>22177.74</td>\n",
              "      <td>154806.14</td>\n",
              "      <td>28334.72</td>\n",
              "      <td>California</td>\n",
              "      <td>65200.33</td>\n",
              "    </tr>\n",
              "    <tr>\n",
              "      <th>45</th>\n",
              "      <td>1000.23</td>\n",
              "      <td>124153.04</td>\n",
              "      <td>1903.93</td>\n",
              "      <td>New York</td>\n",
              "      <td>64926.08</td>\n",
              "    </tr>\n",
              "    <tr>\n",
              "      <th>46</th>\n",
              "      <td>1315.46</td>\n",
              "      <td>115816.21</td>\n",
              "      <td>297114.46</td>\n",
              "      <td>Florida</td>\n",
              "      <td>49490.75</td>\n",
              "    </tr>\n",
              "    <tr>\n",
              "      <th>47</th>\n",
              "      <td>0.00</td>\n",
              "      <td>135426.92</td>\n",
              "      <td>0.00</td>\n",
              "      <td>California</td>\n",
              "      <td>42559.73</td>\n",
              "    </tr>\n",
              "    <tr>\n",
              "      <th>48</th>\n",
              "      <td>542.05</td>\n",
              "      <td>51743.15</td>\n",
              "      <td>0.00</td>\n",
              "      <td>New York</td>\n",
              "      <td>35673.41</td>\n",
              "    </tr>\n",
              "    <tr>\n",
              "      <th>49</th>\n",
              "      <td>0.00</td>\n",
              "      <td>116983.80</td>\n",
              "      <td>45173.06</td>\n",
              "      <td>California</td>\n",
              "      <td>14681.40</td>\n",
              "    </tr>\n",
              "  </tbody>\n",
              "</table>\n",
              "</div>"
            ],
            "text/plain": [
              "    R&D Spend  Administration  Marketing Spend       State     Profit\n",
              "0   165349.20       136897.80        471784.10    New York  192261.83\n",
              "1   162597.70       151377.59        443898.53  California  191792.06\n",
              "2   153441.51       101145.55        407934.54     Florida  191050.39\n",
              "3   144372.41       118671.85        383199.62    New York  182901.99\n",
              "4   142107.34        91391.77        366168.42     Florida  166187.94\n",
              "5   131876.90        99814.71        362861.36    New York  156991.12\n",
              "6   134615.46       147198.87        127716.82  California  156122.51\n",
              "7   130298.13       145530.06        323876.68     Florida  155752.60\n",
              "8   120542.52       148718.95        311613.29    New York  152211.77\n",
              "9   123334.88       108679.17        304981.62  California  149759.96\n",
              "10  101913.08       110594.11        229160.95     Florida  146121.95\n",
              "11  100671.96        91790.61        249744.55  California  144259.40\n",
              "12   93863.75       127320.38        249839.44     Florida  141585.52\n",
              "13   91992.39       135495.07        252664.93  California  134307.35\n",
              "14  119943.24       156547.42        256512.92     Florida  132602.65\n",
              "15  114523.61       122616.84        261776.23    New York  129917.04\n",
              "16   78013.11       121597.55        264346.06  California  126992.93\n",
              "17   94657.16       145077.58        282574.31    New York  125370.37\n",
              "18   91749.16       114175.79        294919.57     Florida  124266.90\n",
              "19   86419.70       153514.11             0.00    New York  122776.86\n",
              "20   76253.86       113867.30        298664.47  California  118474.03\n",
              "21   78389.47       153773.43        299737.29    New York  111313.02\n",
              "22   73994.56       122782.75        303319.26     Florida  110352.25\n",
              "23   67532.53       105751.03        304768.73     Florida  108733.99\n",
              "24   77044.01        99281.34        140574.81    New York  108552.04\n",
              "25   64664.71       139553.16        137962.62  California  107404.34\n",
              "26   75328.87       144135.98        134050.07     Florida  105733.54\n",
              "27   72107.60       127864.55        353183.81    New York  105008.31\n",
              "28   66051.52       182645.56        118148.20     Florida  103282.38\n",
              "29   65605.48       153032.06        107138.38    New York  101004.64\n",
              "30   61994.48       115641.28         91131.24     Florida   99937.59\n",
              "31   61136.38       152701.92         88218.23    New York   97483.56\n",
              "32   63408.86       129219.61         46085.25  California   97427.84\n",
              "33   55493.95       103057.49        214634.81     Florida   96778.92\n",
              "34   46426.07       157693.92        210797.67  California   96712.80\n",
              "35   46014.02        85047.44        205517.64    New York   96479.51\n",
              "36   28663.76       127056.21        201126.82     Florida   90708.19\n",
              "37   44069.95        51283.14        197029.42  California   89949.14\n",
              "38   20229.59        65947.93        185265.10    New York   81229.06\n",
              "39   38558.51        82982.09        174999.30  California   81005.76\n",
              "40   28754.33       118546.05        172795.67  California   78239.91\n",
              "41   27892.92        84710.77        164470.71     Florida   77798.83\n",
              "42   23640.93        96189.63        148001.11  California   71498.49\n",
              "43   15505.73       127382.30         35534.17    New York   69758.98\n",
              "44   22177.74       154806.14         28334.72  California   65200.33\n",
              "45    1000.23       124153.04          1903.93    New York   64926.08\n",
              "46    1315.46       115816.21        297114.46     Florida   49490.75\n",
              "47       0.00       135426.92             0.00  California   42559.73\n",
              "48     542.05        51743.15             0.00    New York   35673.41\n",
              "49       0.00       116983.80         45173.06  California   14681.40"
            ]
          },
          "metadata": {},
          "execution_count": 146
        }
      ]
    },
    {
      "cell_type": "code",
      "metadata": {
        "id": "B6SETXENj96r"
      },
      "source": [
        "df_feat = df_startup.drop('Profit', axis=1)\n",
        "value = df_startup['Profit']\n",
        "feature=pd.get_dummies(df_feat,drop_first=False)"
      ],
      "execution_count": 150,
      "outputs": []
    },
    {
      "cell_type": "code",
      "metadata": {
        "id": "cxS_nfW-fDl7"
      },
      "source": [
        "feature_train, feature_test, value_train, value_test = train_test_split(feature, value,\n",
        "                                                                        test_size=0.2, random_state=42)"
      ],
      "execution_count": 151,
      "outputs": []
    },
    {
      "cell_type": "code",
      "metadata": {
        "id": "cc-VKKZSaOyc"
      },
      "source": [
        "#Train model và predict giá trị\n",
        "LR = LinearRegression()\n",
        "LR.fit(feature_train, value_train)\n",
        "predict = LR.predict(feature_test)"
      ],
      "execution_count": 152,
      "outputs": []
    },
    {
      "cell_type": "code",
      "metadata": {
        "colab": {
          "base_uri": "https://localhost:8080/"
        },
        "id": "BIelDN_Ep-iV",
        "outputId": "9b3e690b-57d7-46f2-b8a7-0e5b48fa1e85"
      },
      "source": [
        "#Tính MSE, R Score, MAE\n",
        "print(\"R Score:\", r2_score(value_test, predict))\n",
        "print(\"Mean Square Error:\", mse(value_test, predict))\n",
        "print(\"Mean Absolute Error:\", mae(value_test, predict))"
      ],
      "execution_count": 153,
      "outputs": [
        {
          "output_type": "stream",
          "name": "stdout",
          "text": [
            "R Score: 0.8987266414329448\n",
            "Mean Square Error: 82010363.04423533\n",
            "Mean Absolute Error: 6961.477813250242\n"
          ]
        }
      ]
    },
    {
      "cell_type": "markdown",
      "metadata": {
        "id": "UjWsuiR7z1r0"
      },
      "source": [
        "#Bài 3: Thử với Classification"
      ]
    },
    {
      "cell_type": "code",
      "metadata": {
        "id": "J_V_1MSTz448"
      },
      "source": [
        "def Kflod_score(model, n):\n",
        "  cv = ShuffleSplit(n_splits=n, test_size=0.2, random_state=0)\n",
        "  score = cross_val_score(model, data_, class_, cv=cv)\n",
        "  return score"
      ],
      "execution_count": null,
      "outputs": []
    },
    {
      "cell_type": "code",
      "metadata": {
        "id": "FX-e3ghXFiRf"
      },
      "source": [
        "from sklearn.neighbors import KNeighborsClassifier\n",
        "from sklearn import svm\n",
        "from sklearn import tree\n",
        "from sklearn.naive_bayes import MultinomialNB, BernoulliNB\n",
        "from sklearn.ensemble import RandomForestClassifier\n",
        "from sklearn.linear_model import LogisticRegression\n",
        "\n",
        "KNN = KNeighborsClassifier(n_neighbors=3)\n",
        "SVM = svm.SVC()\n",
        "DTree = tree.DecisionTreeClassifier()\n",
        "MNB = MultinomialNB()\n",
        "BNB = BernoulliNB()\n",
        "RF = RandomForestClassifier(max_depth=2, random_state=0)\n",
        "lr_clf = LogisticRegression(random_state=0)\n",
        "#Kenerl SVM\n",
        "\n",
        "kernel_svm = []\n",
        "for kernel in ['poly', 'rbf', 'sigmoid']:\n",
        "  clf_svm = svm.SVC(kernel=kernel, coef0=0)\n",
        "  kernel_svm.append(clf_svm)"
      ],
      "execution_count": null,
      "outputs": []
    },
    {
      "cell_type": "markdown",
      "metadata": {
        "id": "jtG8vONvFWgY"
      },
      "source": [
        "##Data Salary"
      ]
    },
    {
      "cell_type": "code",
      "metadata": {
        "id": "dMwEY2J-JAS_"
      },
      "source": [
        "from sklearn.preprocessing import MinMaxScaler\n",
        "\n",
        "scaler = MinMaxScaler()\n",
        "salary_feature = scaler.fit_transform(df_salary[['YearsExperience']])\n",
        "salary_class = le.fit_transform(df_salary[['Salary']])"
      ],
      "execution_count": null,
      "outputs": []
    },
    {
      "cell_type": "code",
      "metadata": {
        "id": "7gi2N6sLGlKP"
      },
      "source": [
        "def Kflod_score_Salary(model, n):\n",
        "  cv = ShuffleSplit(n_splits=n, test_size=0.2, random_state=0)\n",
        "  score = cross_val_score(model, salary_feature, salary_class, cv=cv)\n",
        "  return score"
      ],
      "execution_count": null,
      "outputs": []
    },
    {
      "cell_type": "code",
      "metadata": {
        "colab": {
          "base_uri": "https://localhost:8080/"
        },
        "id": "cJD7girtFWAA",
        "outputId": "b546a379-05be-4e13-84b3-c5e49aa867c2"
      },
      "source": [
        "models = zip((\"KNN Classifier\", \"SVM\", \"Decision Tree\", \"Multinomia Naive Bayes\", \"Bernoulli Naive Bayes\", \"Random Forest\", \"Logistic Regression\", \"Polynomial SVM\", \"RBF SVM\", \"Sigmoid SVM\"),\n",
        "             [KNN, SVM, DTree, MNB, BNB, RF, lr_clf] + kernel_svm)\n",
        "\n",
        "for txt, model in models:\n",
        "  score = Kflod_score_Salary(model, 5)\n",
        "  print(txt + \" ------------------------------------------------------------------------------------\")\n",
        "  print(\"Accuracy: \", score.mean())\n",
        "  print(\"Độ lệch chuẩn: \", score.std())\n",
        "  print('\\n')"
      ],
      "execution_count": null,
      "outputs": [
        {
          "output_type": "stream",
          "name": "stdout",
          "text": [
            "KNN Classifier ------------------------------------------------------------------------------------\n",
            "Accuracy:  0.0\n",
            "Độ lệch chuẩn:  0.0\n",
            "\n",
            "\n",
            "SVM ------------------------------------------------------------------------------------\n",
            "Accuracy:  0.0\n",
            "Độ lệch chuẩn:  0.0\n",
            "\n",
            "\n",
            "Decision Tree ------------------------------------------------------------------------------------\n",
            "Accuracy:  0.0\n",
            "Độ lệch chuẩn:  0.0\n",
            "\n",
            "\n",
            "Multinomia Naive Bayes ------------------------------------------------------------------------------------\n",
            "Accuracy:  0.0\n",
            "Độ lệch chuẩn:  0.0\n",
            "\n",
            "\n",
            "Bernoulli Naive Bayes ------------------------------------------------------------------------------------\n",
            "Accuracy:  0.0\n",
            "Độ lệch chuẩn:  0.0\n",
            "\n",
            "\n",
            "Random Forest ------------------------------------------------------------------------------------\n",
            "Accuracy:  0.0\n",
            "Độ lệch chuẩn:  0.0\n",
            "\n",
            "\n",
            "Logistic Regression ------------------------------------------------------------------------------------\n",
            "Accuracy:  0.0\n",
            "Độ lệch chuẩn:  0.0\n",
            "\n",
            "\n",
            "Polynomial SVM ------------------------------------------------------------------------------------\n",
            "Accuracy:  0.0\n",
            "Độ lệch chuẩn:  0.0\n",
            "\n",
            "\n",
            "RBF SVM ------------------------------------------------------------------------------------\n",
            "Accuracy:  0.0\n",
            "Độ lệch chuẩn:  0.0\n",
            "\n",
            "\n",
            "Sigmoid SVM ------------------------------------------------------------------------------------\n",
            "Accuracy:  0.0\n",
            "Độ lệch chuẩn:  0.0\n",
            "\n",
            "\n"
          ]
        }
      ]
    },
    {
      "cell_type": "markdown",
      "metadata": {
        "id": "7DW5noNtMLiN"
      },
      "source": [
        "##Data Startup"
      ]
    },
    {
      "cell_type": "code",
      "metadata": {
        "id": "1sUtSpxulzVd"
      },
      "source": [
        "#scaler feature\n",
        "le_startup = LabelEncoder()\n",
        "startup_feature = scaler.fit_transform(feature)\n",
        "le_startup.fit(df_startup[['Profit']])\n",
        "startup_class = le_startup.transform(df_startup[['Profit']])"
      ],
      "execution_count": null,
      "outputs": []
    },
    {
      "cell_type": "code",
      "metadata": {
        "id": "PSDnqfVIMPWt"
      },
      "source": [
        "def Kflod_score_Startup(model, n):\n",
        "  cv = ShuffleSplit(n_splits=n, test_size=0.2, random_state=0)\n",
        "  score = cross_val_score(model, startup_feature, startup_class, cv=cv)\n",
        "  return score"
      ],
      "execution_count": null,
      "outputs": []
    },
    {
      "cell_type": "code",
      "metadata": {
        "colab": {
          "base_uri": "https://localhost:8080/"
        },
        "id": "qzMU8tXPhW-t",
        "outputId": "b40d32cb-c7f7-4018-9fbd-9eb2de7ac24c"
      },
      "source": [
        "models = zip((\"KNN Classifier\", \"SVM\", \"Decision Tree\", \"Multinomia Naive Bayes\", \"Bernoulli Naive Bayes\", \"Random Forest\", \"Logistic Regression\", \"Polynomial SVM\", \"RBF SVM\", \"Sigmoid SVM\"),\n",
        "             [KNN, SVM, DTree, MNB, BNB, RF, lr_clf] + kernel_svm)\n",
        "for txt, model in models:\n",
        "  score = Kflod_score_Startup(model, 5)\n",
        "  print(txt + \" ------------------------------------------------------------------------------------\")\n",
        "  print(\"Accuracy: \", score.mean())\n",
        "  print(\"Độ lệch chuẩn: \", score.std())\n",
        "  print('\\n')"
      ],
      "execution_count": null,
      "outputs": [
        {
          "output_type": "stream",
          "name": "stdout",
          "text": [
            "KNN Classifier ------------------------------------------------------------------------------------\n",
            "Accuracy:  0.0\n",
            "Độ lệch chuẩn:  0.0\n",
            "\n",
            "\n",
            "SVM ------------------------------------------------------------------------------------\n",
            "Accuracy:  0.0\n",
            "Độ lệch chuẩn:  0.0\n",
            "\n",
            "\n",
            "Decision Tree ------------------------------------------------------------------------------------\n",
            "Accuracy:  0.0\n",
            "Độ lệch chuẩn:  0.0\n",
            "\n",
            "\n",
            "Multinomia Naive Bayes ------------------------------------------------------------------------------------\n",
            "Accuracy:  0.0\n",
            "Độ lệch chuẩn:  0.0\n",
            "\n",
            "\n",
            "Bernoulli Naive Bayes ------------------------------------------------------------------------------------\n",
            "Accuracy:  0.0\n",
            "Độ lệch chuẩn:  0.0\n",
            "\n",
            "\n",
            "Random Forest ------------------------------------------------------------------------------------\n",
            "Accuracy:  0.0\n",
            "Độ lệch chuẩn:  0.0\n",
            "\n",
            "\n",
            "Logistic Regression ------------------------------------------------------------------------------------\n",
            "Accuracy:  0.0\n",
            "Độ lệch chuẩn:  0.0\n",
            "\n",
            "\n",
            "Polynomial SVM ------------------------------------------------------------------------------------\n",
            "Accuracy:  0.0\n",
            "Độ lệch chuẩn:  0.0\n",
            "\n",
            "\n",
            "RBF SVM ------------------------------------------------------------------------------------\n",
            "Accuracy:  0.0\n",
            "Độ lệch chuẩn:  0.0\n",
            "\n",
            "\n",
            "Sigmoid SVM ------------------------------------------------------------------------------------\n",
            "Accuracy:  0.0\n",
            "Độ lệch chuẩn:  0.0\n",
            "\n",
            "\n"
          ]
        }
      ]
    },
    {
      "cell_type": "markdown",
      "metadata": {
        "id": "NKxrqqTbKLRI"
      },
      "source": [
        "###Nhận xét 1:\n",
        "\n",
        ">Có vẻ khi dùng classification cho bài toán phân lớp thì số lớp quá nhiều so với số data, nên model sẽ không train được tốt dẫn đến Accuracy của toàn bộ model đề có kết quả bằng 0.\n",
        "\n",
        ">Có thể thấy việc áp dụng các model classification và các bài toán hồi quy là không khả thi.\n",
        "\n",
        ">Cần phải xác định và phân loại rõ bài toán Regression và Classification.\n",
        "\n",
        ">Kết luận: Giải bài toán Regression theo hướng Classification là không hiểu quả.\n",
        "\n",
        ">Chính xác hơn đây chính là bài toán Regression"
      ]
    },
    {
      "cell_type": "code",
      "metadata": {
        "id": "8lpE-GReold7"
      },
      "source": [
        "data_train, data_test, class_train, class_test = train_test_split(startup_feature, startup_class,\n",
        "                                                                  test_size=0.2, random_state=42)"
      ],
      "execution_count": null,
      "outputs": []
    },
    {
      "cell_type": "code",
      "metadata": {
        "id": "qZuG8FQYjf7d"
      },
      "source": [
        "def predict_model(model):\n",
        "  \n",
        "  model.fit(data_train, class_train)\n",
        "  predict_class = model.predict(data_test)\n",
        "  predict_class = le_startup.inverse_transform(predict_class)\n",
        "\n",
        "  return predict_class"
      ],
      "execution_count": null,
      "outputs": []
    },
    {
      "cell_type": "code",
      "metadata": {
        "id": "bE8cHLLNn3eb"
      },
      "source": [
        "lst_model = [KNN, SVM, DTree, MNB, BNB, RF, lr_clf] + kernel_svm\n",
        "prediction = []\n",
        "for model in lst_model:\n",
        "  predict = predict_model(model)\n",
        "  prediction.append(predict)"
      ],
      "execution_count": null,
      "outputs": []
    },
    {
      "cell_type": "code",
      "metadata": {
        "id": "Wy4QPiQ-oYvE"
      },
      "source": [
        "table_res = pd.DataFrame(prediction, columns=[\"KNN Classifier\", \"SVM\", \"Decision Tree\", \"Multinomia Naive Bayes\",\n",
        "                                         \"Bernoulli Naive Bayes\", \"Random Forest\", \"Logistic Regression\",\n",
        "                                         \"Polynomial SVM\", \"RBF SVM\", \"Sigmoid SVM\"])"
      ],
      "execution_count": null,
      "outputs": []
    },
    {
      "cell_type": "code",
      "metadata": {
        "colab": {
          "base_uri": "https://localhost:8080/",
          "height": 393
        },
        "id": "FxV32flGpHvj",
        "outputId": "d8bb81ae-d248-4be2-ca21-f26dddaa4ff4"
      },
      "source": [
        "table_res['Real'] = le_startup.inverse_transform(class_test)\n",
        "table_res"
      ],
      "execution_count": null,
      "outputs": [
        {
          "output_type": "execute_result",
          "data": {
            "text/html": [
              "<div>\n",
              "<style scoped>\n",
              "    .dataframe tbody tr th:only-of-type {\n",
              "        vertical-align: middle;\n",
              "    }\n",
              "\n",
              "    .dataframe tbody tr th {\n",
              "        vertical-align: top;\n",
              "    }\n",
              "\n",
              "    .dataframe thead th {\n",
              "        text-align: right;\n",
              "    }\n",
              "</style>\n",
              "<table border=\"1\" class=\"dataframe\">\n",
              "  <thead>\n",
              "    <tr style=\"text-align: right;\">\n",
              "      <th></th>\n",
              "      <th>KNN Classifier</th>\n",
              "      <th>SVM</th>\n",
              "      <th>Decision Tree</th>\n",
              "      <th>Multinomia Naive Bayes</th>\n",
              "      <th>Bernoulli Naive Bayes</th>\n",
              "      <th>Random Forest</th>\n",
              "      <th>Logistic Regression</th>\n",
              "      <th>Polynomial SVM</th>\n",
              "      <th>RBF SVM</th>\n",
              "      <th>Sigmoid SVM</th>\n",
              "      <th>Real</th>\n",
              "    </tr>\n",
              "  </thead>\n",
              "  <tbody>\n",
              "    <tr>\n",
              "      <th>0</th>\n",
              "      <td>118474.03</td>\n",
              "      <td>71498.49</td>\n",
              "      <td>77798.83</td>\n",
              "      <td>69758.98</td>\n",
              "      <td>111313.02</td>\n",
              "      <td>69758.98</td>\n",
              "      <td>90708.19</td>\n",
              "      <td>78239.91</td>\n",
              "      <td>14681.40</td>\n",
              "      <td>69758.98</td>\n",
              "      <td>134307.35</td>\n",
              "    </tr>\n",
              "    <tr>\n",
              "      <th>1</th>\n",
              "      <td>126992.93</td>\n",
              "      <td>71498.49</td>\n",
              "      <td>96778.92</td>\n",
              "      <td>69758.98</td>\n",
              "      <td>111313.02</td>\n",
              "      <td>81229.06</td>\n",
              "      <td>141585.52</td>\n",
              "      <td>96712.80</td>\n",
              "      <td>65200.33</td>\n",
              "      <td>97483.56</td>\n",
              "      <td>81005.76</td>\n",
              "    </tr>\n",
              "    <tr>\n",
              "      <th>2</th>\n",
              "      <td>191792.06</td>\n",
              "      <td>144259.40</td>\n",
              "      <td>97483.56</td>\n",
              "      <td>49490.75</td>\n",
              "      <td>111313.02</td>\n",
              "      <td>49490.75</td>\n",
              "      <td>103282.38</td>\n",
              "      <td>156122.51</td>\n",
              "      <td>126992.93</td>\n",
              "      <td>97483.56</td>\n",
              "      <td>99937.59</td>\n",
              "    </tr>\n",
              "    <tr>\n",
              "      <th>3</th>\n",
              "      <td>191792.06</td>\n",
              "      <td>191792.06</td>\n",
              "      <td>97483.56</td>\n",
              "      <td>69758.98</td>\n",
              "      <td>69758.98</td>\n",
              "      <td>81229.06</td>\n",
              "      <td>103282.38</td>\n",
              "      <td>156122.51</td>\n",
              "      <td>156122.51</td>\n",
              "      <td>69758.98</td>\n",
              "      <td>64926.08</td>\n",
              "    </tr>\n",
              "    <tr>\n",
              "      <th>4</th>\n",
              "      <td>65200.33</td>\n",
              "      <td>65200.33</td>\n",
              "      <td>49490.75</td>\n",
              "      <td>49490.75</td>\n",
              "      <td>49490.75</td>\n",
              "      <td>49490.75</td>\n",
              "      <td>49490.75</td>\n",
              "      <td>65200.33</td>\n",
              "      <td>65200.33</td>\n",
              "      <td>49490.75</td>\n",
              "      <td>125370.37</td>\n",
              "    </tr>\n",
              "    <tr>\n",
              "      <th>5</th>\n",
              "      <td>126992.93</td>\n",
              "      <td>77798.83</td>\n",
              "      <td>97483.56</td>\n",
              "      <td>42559.73</td>\n",
              "      <td>126992.93</td>\n",
              "      <td>42559.73</td>\n",
              "      <td>156122.51</td>\n",
              "      <td>126992.93</td>\n",
              "      <td>156122.51</td>\n",
              "      <td>42559.73</td>\n",
              "      <td>35673.41</td>\n",
              "    </tr>\n",
              "    <tr>\n",
              "      <th>6</th>\n",
              "      <td>191792.06</td>\n",
              "      <td>89949.14</td>\n",
              "      <td>42559.73</td>\n",
              "      <td>69758.98</td>\n",
              "      <td>192261.83</td>\n",
              "      <td>81229.06</td>\n",
              "      <td>103282.38</td>\n",
              "      <td>65200.33</td>\n",
              "      <td>42559.73</td>\n",
              "      <td>97483.56</td>\n",
              "      <td>105733.54</td>\n",
              "    </tr>\n",
              "    <tr>\n",
              "      <th>7</th>\n",
              "      <td>126992.93</td>\n",
              "      <td>71498.49</td>\n",
              "      <td>96778.92</td>\n",
              "      <td>69758.98</td>\n",
              "      <td>111313.02</td>\n",
              "      <td>81229.06</td>\n",
              "      <td>141585.52</td>\n",
              "      <td>78239.91</td>\n",
              "      <td>78239.91</td>\n",
              "      <td>97483.56</td>\n",
              "      <td>107404.34</td>\n",
              "    </tr>\n",
              "    <tr>\n",
              "      <th>8</th>\n",
              "      <td>126992.93</td>\n",
              "      <td>71498.49</td>\n",
              "      <td>96778.92</td>\n",
              "      <td>69758.98</td>\n",
              "      <td>111313.02</td>\n",
              "      <td>81229.06</td>\n",
              "      <td>141585.52</td>\n",
              "      <td>96712.80</td>\n",
              "      <td>65200.33</td>\n",
              "      <td>97483.56</td>\n",
              "      <td>97427.84</td>\n",
              "    </tr>\n",
              "    <tr>\n",
              "      <th>9</th>\n",
              "      <td>71498.49</td>\n",
              "      <td>191792.06</td>\n",
              "      <td>192261.83</td>\n",
              "      <td>77798.83</td>\n",
              "      <td>71498.49</td>\n",
              "      <td>81229.06</td>\n",
              "      <td>71498.49</td>\n",
              "      <td>71498.49</td>\n",
              "      <td>191792.06</td>\n",
              "      <td>77798.83</td>\n",
              "      <td>122776.86</td>\n",
              "    </tr>\n",
              "  </tbody>\n",
              "</table>\n",
              "</div>"
            ],
            "text/plain": [
              "   KNN Classifier        SVM  Decision Tree  ...    RBF SVM  Sigmoid SVM       Real\n",
              "0       118474.03   71498.49       77798.83  ...   14681.40     69758.98  134307.35\n",
              "1       126992.93   71498.49       96778.92  ...   65200.33     97483.56   81005.76\n",
              "2       191792.06  144259.40       97483.56  ...  126992.93     97483.56   99937.59\n",
              "3       191792.06  191792.06       97483.56  ...  156122.51     69758.98   64926.08\n",
              "4        65200.33   65200.33       49490.75  ...   65200.33     49490.75  125370.37\n",
              "5       126992.93   77798.83       97483.56  ...  156122.51     42559.73   35673.41\n",
              "6       191792.06   89949.14       42559.73  ...   42559.73     97483.56  105733.54\n",
              "7       126992.93   71498.49       96778.92  ...   78239.91     97483.56  107404.34\n",
              "8       126992.93   71498.49       96778.92  ...   65200.33     97483.56   97427.84\n",
              "9        71498.49  191792.06      192261.83  ...  191792.06     77798.83  122776.86\n",
              "\n",
              "[10 rows x 11 columns]"
            ]
          },
          "metadata": {},
          "execution_count": 133
        }
      ]
    },
    {
      "cell_type": "markdown",
      "metadata": {
        "id": "_XLslMoZmir8"
      },
      "source": [
        "###Nhận xét 2:\n",
        "\n",
        ">Có thế thấy nêu dùng mô hình phân lớp thì kết quả dự đoán lệch rất nhiều so với giá trị thực - Có thể nó là 1 đống hỗn lộn\n",
        "\n",
        ">Cũng có thể dễ dàng hiểu tại sao khi dùng KFlod đánh giá ta có thể thấy Accuracy toàn bộ cho model đều = 0. Là do việc model không thể phân lớp cho các giá trị này\n",
        "\n",
        ">Nguyên nhân: Vấn đề là trong tập test không có các lớp trong tập train (Vì đây là bài toán Regression). Khi predict thì các model sẽ predict các giá trị vào trong các phân lớp có trong tập train\n",
        "\n",
        "=> Dùng model classification là không phù hợp\n",
        "\n"
      ]
    }
  ]
}