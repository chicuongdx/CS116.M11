{
  "nbformat": 4,
  "nbformat_minor": 0,
  "metadata": {
    "colab": {
      "name": "CS116.M11.Buoi7.ipynb",
      "provenance": [],
      "collapsed_sections": []
    },
    "kernelspec": {
      "name": "python3",
      "display_name": "Python 3"
    },
    "language_info": {
      "name": "python"
    },
    "accelerator": "GPU"
  },
  "cells": [
    {
      "cell_type": "markdown",
      "metadata": {
        "id": "th3q_-SDGsu8"
      },
      "source": [
        "#Bài tập thực hành - Lập trình máy học cho python - CS116.M11\n",
        "\n",
        "\n",
        "\n",
        "MSSV: 19521299\n",
        "\n",
        "Tên: Nguyễn Chí Cường\n",
        "\n",
        "Ngày: 19/10/2021\n",
        "\n",
        "Tuần 7"
      ]
    },
    {
      "cell_type": "markdown",
      "metadata": {
        "id": "dTvUFHSLIg2p"
      },
      "source": [
        "#Bước 1: Đọc dữ liệu"
      ]
    },
    {
      "cell_type": "code",
      "metadata": {
        "id": "qEA74v5-Gm3K"
      },
      "source": [
        "import pandas as pd\n",
        "import numpy as np\n",
        "from sklearn.model_selection import cross_val_score, ShuffleSplit\n",
        "from sklearn.model_selection import train_test_split\n",
        "from sklearn.preprocessing import MinMaxScaler\n",
        "from sklearn.metrics import classification_report\n",
        "from sklearn.metrics import RocCurveDisplay\n",
        "import warnings\n",
        "warnings.filterwarnings(\"ignore\")"
      ],
      "execution_count": 1,
      "outputs": []
    },
    {
      "cell_type": "code",
      "metadata": {
        "colab": {
          "base_uri": "https://localhost:8080/",
          "height": 419
        },
        "id": "6ZQQ32jfG5d6",
        "outputId": "7b6add6f-e915-4815-f0cd-8725ef24e81f"
      },
      "source": [
        "df = pd.read_csv('Social_Network_Ads.csv')\n",
        "df"
      ],
      "execution_count": 2,
      "outputs": [
        {
          "output_type": "execute_result",
          "data": {
            "text/html": [
              "<div>\n",
              "<style scoped>\n",
              "    .dataframe tbody tr th:only-of-type {\n",
              "        vertical-align: middle;\n",
              "    }\n",
              "\n",
              "    .dataframe tbody tr th {\n",
              "        vertical-align: top;\n",
              "    }\n",
              "\n",
              "    .dataframe thead th {\n",
              "        text-align: right;\n",
              "    }\n",
              "</style>\n",
              "<table border=\"1\" class=\"dataframe\">\n",
              "  <thead>\n",
              "    <tr style=\"text-align: right;\">\n",
              "      <th></th>\n",
              "      <th>Age</th>\n",
              "      <th>EstimatedSalary</th>\n",
              "      <th>Purchased</th>\n",
              "    </tr>\n",
              "  </thead>\n",
              "  <tbody>\n",
              "    <tr>\n",
              "      <th>0</th>\n",
              "      <td>19</td>\n",
              "      <td>19000</td>\n",
              "      <td>0</td>\n",
              "    </tr>\n",
              "    <tr>\n",
              "      <th>1</th>\n",
              "      <td>35</td>\n",
              "      <td>20000</td>\n",
              "      <td>0</td>\n",
              "    </tr>\n",
              "    <tr>\n",
              "      <th>2</th>\n",
              "      <td>26</td>\n",
              "      <td>43000</td>\n",
              "      <td>0</td>\n",
              "    </tr>\n",
              "    <tr>\n",
              "      <th>3</th>\n",
              "      <td>27</td>\n",
              "      <td>57000</td>\n",
              "      <td>0</td>\n",
              "    </tr>\n",
              "    <tr>\n",
              "      <th>4</th>\n",
              "      <td>19</td>\n",
              "      <td>76000</td>\n",
              "      <td>0</td>\n",
              "    </tr>\n",
              "    <tr>\n",
              "      <th>...</th>\n",
              "      <td>...</td>\n",
              "      <td>...</td>\n",
              "      <td>...</td>\n",
              "    </tr>\n",
              "    <tr>\n",
              "      <th>395</th>\n",
              "      <td>46</td>\n",
              "      <td>41000</td>\n",
              "      <td>1</td>\n",
              "    </tr>\n",
              "    <tr>\n",
              "      <th>396</th>\n",
              "      <td>51</td>\n",
              "      <td>23000</td>\n",
              "      <td>1</td>\n",
              "    </tr>\n",
              "    <tr>\n",
              "      <th>397</th>\n",
              "      <td>50</td>\n",
              "      <td>20000</td>\n",
              "      <td>1</td>\n",
              "    </tr>\n",
              "    <tr>\n",
              "      <th>398</th>\n",
              "      <td>36</td>\n",
              "      <td>33000</td>\n",
              "      <td>0</td>\n",
              "    </tr>\n",
              "    <tr>\n",
              "      <th>399</th>\n",
              "      <td>49</td>\n",
              "      <td>36000</td>\n",
              "      <td>1</td>\n",
              "    </tr>\n",
              "  </tbody>\n",
              "</table>\n",
              "<p>400 rows × 3 columns</p>\n",
              "</div>"
            ],
            "text/plain": [
              "     Age  EstimatedSalary  Purchased\n",
              "0     19            19000          0\n",
              "1     35            20000          0\n",
              "2     26            43000          0\n",
              "3     27            57000          0\n",
              "4     19            76000          0\n",
              "..   ...              ...        ...\n",
              "395   46            41000          1\n",
              "396   51            23000          1\n",
              "397   50            20000          1\n",
              "398   36            33000          0\n",
              "399   49            36000          1\n",
              "\n",
              "[400 rows x 3 columns]"
            ]
          },
          "metadata": {},
          "execution_count": 2
        }
      ]
    },
    {
      "cell_type": "markdown",
      "metadata": {
        "id": "6XEtRhWOIkE5"
      },
      "source": [
        "#Bước 2: Scale dữ liệu"
      ]
    },
    {
      "cell_type": "code",
      "metadata": {
        "colab": {
          "base_uri": "https://localhost:8080/",
          "height": 419
        },
        "id": "9c5sEdGnHDAq",
        "outputId": "62d2fa5f-782b-405b-c618-14923232bc46"
      },
      "source": [
        "scaler = MinMaxScaler()\n",
        "df[['Age', 'EstimatedSalary']] = scaler.fit_transform(df[['Age', 'EstimatedSalary']])\n",
        "df"
      ],
      "execution_count": 3,
      "outputs": [
        {
          "output_type": "execute_result",
          "data": {
            "text/html": [
              "<div>\n",
              "<style scoped>\n",
              "    .dataframe tbody tr th:only-of-type {\n",
              "        vertical-align: middle;\n",
              "    }\n",
              "\n",
              "    .dataframe tbody tr th {\n",
              "        vertical-align: top;\n",
              "    }\n",
              "\n",
              "    .dataframe thead th {\n",
              "        text-align: right;\n",
              "    }\n",
              "</style>\n",
              "<table border=\"1\" class=\"dataframe\">\n",
              "  <thead>\n",
              "    <tr style=\"text-align: right;\">\n",
              "      <th></th>\n",
              "      <th>Age</th>\n",
              "      <th>EstimatedSalary</th>\n",
              "      <th>Purchased</th>\n",
              "    </tr>\n",
              "  </thead>\n",
              "  <tbody>\n",
              "    <tr>\n",
              "      <th>0</th>\n",
              "      <td>0.023810</td>\n",
              "      <td>0.029630</td>\n",
              "      <td>0</td>\n",
              "    </tr>\n",
              "    <tr>\n",
              "      <th>1</th>\n",
              "      <td>0.404762</td>\n",
              "      <td>0.037037</td>\n",
              "      <td>0</td>\n",
              "    </tr>\n",
              "    <tr>\n",
              "      <th>2</th>\n",
              "      <td>0.190476</td>\n",
              "      <td>0.207407</td>\n",
              "      <td>0</td>\n",
              "    </tr>\n",
              "    <tr>\n",
              "      <th>3</th>\n",
              "      <td>0.214286</td>\n",
              "      <td>0.311111</td>\n",
              "      <td>0</td>\n",
              "    </tr>\n",
              "    <tr>\n",
              "      <th>4</th>\n",
              "      <td>0.023810</td>\n",
              "      <td>0.451852</td>\n",
              "      <td>0</td>\n",
              "    </tr>\n",
              "    <tr>\n",
              "      <th>...</th>\n",
              "      <td>...</td>\n",
              "      <td>...</td>\n",
              "      <td>...</td>\n",
              "    </tr>\n",
              "    <tr>\n",
              "      <th>395</th>\n",
              "      <td>0.666667</td>\n",
              "      <td>0.192593</td>\n",
              "      <td>1</td>\n",
              "    </tr>\n",
              "    <tr>\n",
              "      <th>396</th>\n",
              "      <td>0.785714</td>\n",
              "      <td>0.059259</td>\n",
              "      <td>1</td>\n",
              "    </tr>\n",
              "    <tr>\n",
              "      <th>397</th>\n",
              "      <td>0.761905</td>\n",
              "      <td>0.037037</td>\n",
              "      <td>1</td>\n",
              "    </tr>\n",
              "    <tr>\n",
              "      <th>398</th>\n",
              "      <td>0.428571</td>\n",
              "      <td>0.133333</td>\n",
              "      <td>0</td>\n",
              "    </tr>\n",
              "    <tr>\n",
              "      <th>399</th>\n",
              "      <td>0.738095</td>\n",
              "      <td>0.155556</td>\n",
              "      <td>1</td>\n",
              "    </tr>\n",
              "  </tbody>\n",
              "</table>\n",
              "<p>400 rows × 3 columns</p>\n",
              "</div>"
            ],
            "text/plain": [
              "          Age  EstimatedSalary  Purchased\n",
              "0    0.023810         0.029630          0\n",
              "1    0.404762         0.037037          0\n",
              "2    0.190476         0.207407          0\n",
              "3    0.214286         0.311111          0\n",
              "4    0.023810         0.451852          0\n",
              "..        ...              ...        ...\n",
              "395  0.666667         0.192593          1\n",
              "396  0.785714         0.059259          1\n",
              "397  0.761905         0.037037          1\n",
              "398  0.428571         0.133333          0\n",
              "399  0.738095         0.155556          1\n",
              "\n",
              "[400 rows x 3 columns]"
            ]
          },
          "metadata": {},
          "execution_count": 3
        }
      ]
    },
    {
      "cell_type": "markdown",
      "metadata": {
        "id": "h0aVs28vIm4C"
      },
      "source": [
        "#Các model"
      ]
    },
    {
      "cell_type": "code",
      "metadata": {
        "id": "nm_RR54DICkP"
      },
      "source": [
        "data_ = df[['Age', 'EstimatedSalary']]\n",
        "class_ = df[['Purchased']]"
      ],
      "execution_count": 4,
      "outputs": []
    },
    {
      "cell_type": "code",
      "metadata": {
        "id": "xwNFsNq_MviS"
      },
      "source": [
        "#Chia dữ liệu\n",
        "X_train, X_test, y_train, y_test = train_test_split(data_, class_, test_size=0.2, random_state=2)"
      ],
      "execution_count": 5,
      "outputs": []
    },
    {
      "cell_type": "markdown",
      "metadata": {
        "id": "ujrCeNiKK9sJ"
      },
      "source": [
        "##KNN Classifier"
      ]
    },
    {
      "cell_type": "code",
      "metadata": {
        "colab": {
          "base_uri": "https://localhost:8080/"
        },
        "id": "c9MeEB1xKdT9",
        "outputId": "ddc1bea5-1a08-43a9-f4e8-31ea42381b41"
      },
      "source": [
        "from sklearn.neighbors import KNeighborsClassifier\n",
        "KNN = KNeighborsClassifier(n_neighbors=3)\n",
        "KNN.fit(X_train, y_train)\n",
        "predict_KNN = KNN.predict(X_test)\n",
        "print(classification_report(y_test, predict_KNN))"
      ],
      "execution_count": 6,
      "outputs": [
        {
          "output_type": "stream",
          "name": "stdout",
          "text": [
            "              precision    recall  f1-score   support\n",
            "\n",
            "           0       0.92      0.96      0.94        48\n",
            "           1       0.93      0.88      0.90        32\n",
            "\n",
            "    accuracy                           0.93        80\n",
            "   macro avg       0.93      0.92      0.92        80\n",
            "weighted avg       0.93      0.93      0.92        80\n",
            "\n"
          ]
        }
      ]
    },
    {
      "cell_type": "markdown",
      "metadata": {
        "id": "yjcolwHOOhq-"
      },
      "source": [
        "##SVM"
      ]
    },
    {
      "cell_type": "code",
      "metadata": {
        "colab": {
          "base_uri": "https://localhost:8080/"
        },
        "id": "sKnljhbpOjUH",
        "outputId": "84185c27-1adb-4cb3-d6b5-8a86f86cce12"
      },
      "source": [
        "from sklearn import svm\n",
        "SVM = svm.SVC()\n",
        "SVM.fit(X_train, y_train)\n",
        "predict_SVM = SVM.predict(X_test)\n",
        "print(classification_report(y_test, predict_SVM))"
      ],
      "execution_count": 7,
      "outputs": [
        {
          "output_type": "stream",
          "name": "stdout",
          "text": [
            "              precision    recall  f1-score   support\n",
            "\n",
            "           0       0.90      0.94      0.92        48\n",
            "           1       0.90      0.84      0.87        32\n",
            "\n",
            "    accuracy                           0.90        80\n",
            "   macro avg       0.90      0.89      0.89        80\n",
            "weighted avg       0.90      0.90      0.90        80\n",
            "\n"
          ]
        }
      ]
    },
    {
      "cell_type": "markdown",
      "metadata": {
        "id": "WM34R86pPWNH"
      },
      "source": [
        "##Decision Tree"
      ]
    },
    {
      "cell_type": "code",
      "metadata": {
        "colab": {
          "base_uri": "https://localhost:8080/"
        },
        "id": "tnxifpUrPe8Y",
        "outputId": "e0b9364a-b2d1-41ba-8260-1988a13ec4a6"
      },
      "source": [
        "from sklearn import tree\n",
        "DTree = tree.DecisionTreeClassifier()\n",
        "DTree.fit(X_train, y_train)\n",
        "predict_Tree = DTree.predict(X_test)\n",
        "print(classification_report(y_test, predict_Tree))"
      ],
      "execution_count": 8,
      "outputs": [
        {
          "output_type": "stream",
          "name": "stdout",
          "text": [
            "              precision    recall  f1-score   support\n",
            "\n",
            "           0       0.86      0.90      0.88        48\n",
            "           1       0.83      0.78      0.81        32\n",
            "\n",
            "    accuracy                           0.85        80\n",
            "   macro avg       0.85      0.84      0.84        80\n",
            "weighted avg       0.85      0.85      0.85        80\n",
            "\n"
          ]
        }
      ]
    },
    {
      "cell_type": "markdown",
      "metadata": {
        "id": "2xTiSsipQGpm"
      },
      "source": [
        "##Naive BayesiaBayesn"
      ]
    },
    {
      "cell_type": "code",
      "metadata": {
        "colab": {
          "base_uri": "https://localhost:8080/"
        },
        "id": "5cDWQZ4eQMhG",
        "outputId": "bbb61519-3701-43e4-cd66-97032ced4489"
      },
      "source": [
        "from sklearn.naive_bayes import MultinomialNB, BernoulliNB\n",
        "print(\"Multinomia Naive Bayes -----------------------------------------\")\n",
        "MNB = MultinomialNB()\n",
        "MNB.fit(X_train, y_train)\n",
        "predict_MNB = MNB.predict(X_test)\n",
        "print(classification_report(y_test, predict_MNB))\n",
        "print(\"Bernoulli Naive Bayes ------------------------------------------\")\n",
        "BNB = BernoulliNB()\n",
        "BNB.fit(X_train, y_train)\n",
        "predict_BNB = BNB.predict(X_test)\n",
        "print(classification_report(y_test, predict_BNB))"
      ],
      "execution_count": 9,
      "outputs": [
        {
          "output_type": "stream",
          "name": "stdout",
          "text": [
            "Multinomia Naive Bayes -----------------------------------------\n",
            "              precision    recall  f1-score   support\n",
            "\n",
            "           0       0.60      1.00      0.75        48\n",
            "           1       0.00      0.00      0.00        32\n",
            "\n",
            "    accuracy                           0.60        80\n",
            "   macro avg       0.30      0.50      0.37        80\n",
            "weighted avg       0.36      0.60      0.45        80\n",
            "\n",
            "Bernoulli Naive Bayes ------------------------------------------\n",
            "              precision    recall  f1-score   support\n",
            "\n",
            "           0       0.60      1.00      0.75        48\n",
            "           1       0.00      0.00      0.00        32\n",
            "\n",
            "    accuracy                           0.60        80\n",
            "   macro avg       0.30      0.50      0.37        80\n",
            "weighted avg       0.36      0.60      0.45        80\n",
            "\n"
          ]
        }
      ]
    },
    {
      "cell_type": "markdown",
      "metadata": {
        "id": "nyJAVPVdSpyW"
      },
      "source": [
        "##Random Forest"
      ]
    },
    {
      "cell_type": "code",
      "metadata": {
        "colab": {
          "base_uri": "https://localhost:8080/"
        },
        "id": "SPLj9RBlSswu",
        "outputId": "d38eebf3-685a-41d2-a62c-935fabdf2f7d"
      },
      "source": [
        "from sklearn.ensemble import RandomForestClassifier\n",
        "RF = RandomForestClassifier(max_depth=2, random_state=0)\n",
        "RF.fit(X_train, y_train)\n",
        "predict_RF = RF.predict(X_test)\n",
        "print(classification_report(y_test, predict_RF))"
      ],
      "execution_count": 10,
      "outputs": [
        {
          "output_type": "stream",
          "name": "stdout",
          "text": [
            "              precision    recall  f1-score   support\n",
            "\n",
            "           0       0.96      0.94      0.95        48\n",
            "           1       0.91      0.94      0.92        32\n",
            "\n",
            "    accuracy                           0.94        80\n",
            "   macro avg       0.93      0.94      0.94        80\n",
            "weighted avg       0.94      0.94      0.94        80\n",
            "\n"
          ]
        }
      ]
    },
    {
      "cell_type": "markdown",
      "metadata": {
        "id": "QNt4bfz2TYDd"
      },
      "source": [
        "##Logistic Regression"
      ]
    },
    {
      "cell_type": "code",
      "metadata": {
        "colab": {
          "base_uri": "https://localhost:8080/"
        },
        "id": "mPAnhi3pTVi-",
        "outputId": "af7602ba-1a74-4abf-99fc-b0ad3004dc16"
      },
      "source": [
        "from sklearn.linear_model import LogisticRegression\n",
        "lr_clf = LogisticRegression(random_state=0)\n",
        "lr_clf.fit(X_train, y_train)\n",
        "predict_LR = lr_clf.predict(X_test)\n",
        "print(classification_report(y_test, predict_LR))"
      ],
      "execution_count": 11,
      "outputs": [
        {
          "output_type": "stream",
          "name": "stdout",
          "text": [
            "              precision    recall  f1-score   support\n",
            "\n",
            "           0       0.78      0.96      0.86        48\n",
            "           1       0.90      0.59      0.72        32\n",
            "\n",
            "    accuracy                           0.81        80\n",
            "   macro avg       0.84      0.78      0.79        80\n",
            "weighted avg       0.83      0.81      0.80        80\n",
            "\n"
          ]
        }
      ]
    },
    {
      "cell_type": "markdown",
      "metadata": {
        "id": "Haq0qJtqaKWM"
      },
      "source": [
        "##Kernel SVM"
      ]
    },
    {
      "cell_type": "code",
      "metadata": {
        "colab": {
          "base_uri": "https://localhost:8080/"
        },
        "id": "40yKmCKbY97N",
        "outputId": "6108f04a-c082-4b5a-a924-b0e91421efc0"
      },
      "source": [
        "kernel_svm = []\n",
        "for kernel in ['poly', 'rbf', 'sigmoid']:\n",
        "  print(kernel + ' -----------------------------------------')\n",
        "  clf_svm = svm.SVC(kernel=kernel, coef0=0)\n",
        "  kernel_svm.append(clf_svm)\n",
        "  clf_svm.fit(X_train, y_train)\n",
        "  predict_kernel = clf_svm.predict(X_test)\n",
        "  print(classification_report(y_test, predict_kernel))"
      ],
      "execution_count": 12,
      "outputs": [
        {
          "output_type": "stream",
          "name": "stdout",
          "text": [
            "poly -----------------------------------------\n",
            "              precision    recall  f1-score   support\n",
            "\n",
            "           0       0.87      0.96      0.91        48\n",
            "           1       0.93      0.78      0.85        32\n",
            "\n",
            "    accuracy                           0.89        80\n",
            "   macro avg       0.90      0.87      0.88        80\n",
            "weighted avg       0.89      0.89      0.89        80\n",
            "\n",
            "rbf -----------------------------------------\n",
            "              precision    recall  f1-score   support\n",
            "\n",
            "           0       0.90      0.94      0.92        48\n",
            "           1       0.90      0.84      0.87        32\n",
            "\n",
            "    accuracy                           0.90        80\n",
            "   macro avg       0.90      0.89      0.89        80\n",
            "weighted avg       0.90      0.90      0.90        80\n",
            "\n",
            "sigmoid -----------------------------------------\n",
            "              precision    recall  f1-score   support\n",
            "\n",
            "           0       0.43      0.42      0.42        48\n",
            "           1       0.15      0.16      0.15        32\n",
            "\n",
            "    accuracy                           0.31        80\n",
            "   macro avg       0.29      0.29      0.29        80\n",
            "weighted avg       0.32      0.31      0.31        80\n",
            "\n"
          ]
        }
      ]
    },
    {
      "cell_type": "markdown",
      "metadata": {
        "id": "5D9JuaSaOVX3"
      },
      "source": [
        "#Bước 3: Đánh giá K-fold"
      ]
    },
    {
      "cell_type": "code",
      "metadata": {
        "id": "hr5iX5ISOZA4"
      },
      "source": [
        "def Kflod_score(model, n):\n",
        "  cv = ShuffleSplit(n_splits=n, test_size=0.2, random_state=0)\n",
        "  score = cross_val_score(model, data_, class_, cv=cv)\n",
        "  return score"
      ],
      "execution_count": 13,
      "outputs": []
    },
    {
      "cell_type": "code",
      "metadata": {
        "colab": {
          "base_uri": "https://localhost:8080/"
        },
        "id": "VcgbQXDrUJDy",
        "outputId": "ef9a7510-6717-4688-d8e3-5cac3166e667"
      },
      "source": [
        "models = zip((\"KNN Classifier\", \"SVM\", \"Decision Tree\", \"Multinomia Naive Bayes\", \"Bernoulli Naive Bayes\", \"Random Forest\", \"Logistic Regression\", \"Polynomial SVM\", \"RBF SVM\", \"Sigmoid SVM\"),\n",
        "             [KNN, SVM, DTree, MNB, BNB, RF, lr_clf] + kernel_svm)\n",
        "for txt, model in models:\n",
        "  score = Kflod_score(model, 5)\n",
        "  print(txt + \" ------------------------------------------------------------------------------------\")\n",
        "  print(\"Accuracy: \", score.mean())\n",
        "  print(\"Độ lệch chuẩn: \", score.std())\n",
        "  print('\\n')"
      ],
      "execution_count": 14,
      "outputs": [
        {
          "output_type": "stream",
          "name": "stdout",
          "text": [
            "KNN Classifier ------------------------------------------------------------------------------------\n",
            "Accuracy:  0.9125\n",
            "Độ lệch chuẩn:  0.022360679774997894\n",
            "\n",
            "\n",
            "SVM ------------------------------------------------------------------------------------\n",
            "Accuracy:  0.9199999999999999\n",
            "Độ lệch chuẩn:  0.01499999999999999\n",
            "\n",
            "\n",
            "Decision Tree ------------------------------------------------------------------------------------\n",
            "Accuracy:  0.875\n",
            "Độ lệch chuẩn:  0.024999999999999977\n",
            "\n",
            "\n",
            "Multinomia Naive Bayes ------------------------------------------------------------------------------------\n",
            "Accuracy:  0.6325000000000001\n",
            "Độ lệch chuẩn:  0.06254998001598401\n",
            "\n",
            "\n",
            "Bernoulli Naive Bayes ------------------------------------------------------------------------------------\n",
            "Accuracy:  0.6325000000000001\n",
            "Độ lệch chuẩn:  0.06254998001598401\n",
            "\n",
            "\n",
            "Random Forest ------------------------------------------------------------------------------------\n",
            "Accuracy:  0.925\n",
            "Độ lệch chuẩn:  0.017677669529663674\n",
            "\n",
            "\n",
            "Logistic Regression ------------------------------------------------------------------------------------\n",
            "Accuracy:  0.825\n",
            "Độ lệch chuẩn:  0.051841103383319306\n",
            "\n",
            "\n",
            "Polynomial SVM ------------------------------------------------------------------------------------\n",
            "Accuracy:  0.9049999999999999\n",
            "Độ lệch chuẩn:  0.018708286933869722\n",
            "\n",
            "\n",
            "RBF SVM ------------------------------------------------------------------------------------\n",
            "Accuracy:  0.9199999999999999\n",
            "Độ lệch chuẩn:  0.01499999999999999\n",
            "\n",
            "\n",
            "Sigmoid SVM ------------------------------------------------------------------------------------\n",
            "Accuracy:  0.3\n",
            "Độ lệch chuẩn:  0.029580398915498088\n",
            "\n",
            "\n"
          ]
        }
      ]
    },
    {
      "cell_type": "markdown",
      "metadata": {
        "id": "zhVdLXgqWOao"
      },
      "source": [
        "#Bước 4: Bảng so sánh Accuracy"
      ]
    },
    {
      "cell_type": "code",
      "metadata": {
        "colab": {
          "base_uri": "https://localhost:8080/",
          "height": 359
        },
        "id": "N0cjFvYBVziM",
        "outputId": "388f2033-2918-4624-957b-307b2a19366d"
      },
      "source": [
        "name = [\"KNN Classifier\", \"SVM\", \"Decision Tree\", \"Multinomia Naive Bayes\", \"Bernoulli Naive Bayes\", \"Random Forest\", \"Logistic Regression\", \"Polynomial SVM\", \"RBF SVM\", \"Sigmoid SVM\"]\n",
        "models = [KNN, SVM, DTree, MNB, BNB, RF, lr_clf] + kernel_svm\n",
        "scores = []\n",
        "acc = []\n",
        "for model in models:\n",
        "  score = Kflod_score(model, 5)\n",
        "  scores.append(score)\n",
        "  acc.append(score.mean())\n",
        "\n",
        "frame = {\"Model\": name, \"Score\": scores, \"Accuracy\": acc}\n",
        "table_score = pd.DataFrame(frame)\n",
        "table_score"
      ],
      "execution_count": 15,
      "outputs": [
        {
          "output_type": "execute_result",
          "data": {
            "text/html": [
              "<div>\n",
              "<style scoped>\n",
              "    .dataframe tbody tr th:only-of-type {\n",
              "        vertical-align: middle;\n",
              "    }\n",
              "\n",
              "    .dataframe tbody tr th {\n",
              "        vertical-align: top;\n",
              "    }\n",
              "\n",
              "    .dataframe thead th {\n",
              "        text-align: right;\n",
              "    }\n",
              "</style>\n",
              "<table border=\"1\" class=\"dataframe\">\n",
              "  <thead>\n",
              "    <tr style=\"text-align: right;\">\n",
              "      <th></th>\n",
              "      <th>Model</th>\n",
              "      <th>Score</th>\n",
              "      <th>Accuracy</th>\n",
              "    </tr>\n",
              "  </thead>\n",
              "  <tbody>\n",
              "    <tr>\n",
              "      <th>0</th>\n",
              "      <td>KNN Classifier</td>\n",
              "      <td>[0.95, 0.8875, 0.9, 0.9, 0.925]</td>\n",
              "      <td>0.9125</td>\n",
              "    </tr>\n",
              "    <tr>\n",
              "      <th>1</th>\n",
              "      <td>SVM</td>\n",
              "      <td>[0.95, 0.9125, 0.9125, 0.9125, 0.9125]</td>\n",
              "      <td>0.9200</td>\n",
              "    </tr>\n",
              "    <tr>\n",
              "      <th>2</th>\n",
              "      <td>Decision Tree</td>\n",
              "      <td>[0.9125, 0.8625, 0.85, 0.8375, 0.875]</td>\n",
              "      <td>0.8675</td>\n",
              "    </tr>\n",
              "    <tr>\n",
              "      <th>3</th>\n",
              "      <td>Multinomia Naive Bayes</td>\n",
              "      <td>[0.725, 0.5375, 0.6, 0.6375, 0.6625]</td>\n",
              "      <td>0.6325</td>\n",
              "    </tr>\n",
              "    <tr>\n",
              "      <th>4</th>\n",
              "      <td>Bernoulli Naive Bayes</td>\n",
              "      <td>[0.725, 0.5375, 0.6, 0.6375, 0.6625]</td>\n",
              "      <td>0.6325</td>\n",
              "    </tr>\n",
              "    <tr>\n",
              "      <th>5</th>\n",
              "      <td>Random Forest</td>\n",
              "      <td>[0.95, 0.925, 0.9375, 0.9, 0.9125]</td>\n",
              "      <td>0.9250</td>\n",
              "    </tr>\n",
              "    <tr>\n",
              "      <th>6</th>\n",
              "      <td>Logistic Regression</td>\n",
              "      <td>[0.925, 0.775, 0.8125, 0.8125, 0.8]</td>\n",
              "      <td>0.8250</td>\n",
              "    </tr>\n",
              "    <tr>\n",
              "      <th>7</th>\n",
              "      <td>Polynomial SVM</td>\n",
              "      <td>[0.9375, 0.9, 0.8875, 0.8875, 0.9125]</td>\n",
              "      <td>0.9050</td>\n",
              "    </tr>\n",
              "    <tr>\n",
              "      <th>8</th>\n",
              "      <td>RBF SVM</td>\n",
              "      <td>[0.95, 0.9125, 0.9125, 0.9125, 0.9125]</td>\n",
              "      <td>0.9200</td>\n",
              "    </tr>\n",
              "    <tr>\n",
              "      <th>9</th>\n",
              "      <td>Sigmoid SVM</td>\n",
              "      <td>[0.3125, 0.25, 0.2875, 0.3125, 0.3375]</td>\n",
              "      <td>0.3000</td>\n",
              "    </tr>\n",
              "  </tbody>\n",
              "</table>\n",
              "</div>"
            ],
            "text/plain": [
              "                    Model                                   Score  Accuracy\n",
              "0          KNN Classifier         [0.95, 0.8875, 0.9, 0.9, 0.925]    0.9125\n",
              "1                     SVM  [0.95, 0.9125, 0.9125, 0.9125, 0.9125]    0.9200\n",
              "2           Decision Tree   [0.9125, 0.8625, 0.85, 0.8375, 0.875]    0.8675\n",
              "3  Multinomia Naive Bayes    [0.725, 0.5375, 0.6, 0.6375, 0.6625]    0.6325\n",
              "4   Bernoulli Naive Bayes    [0.725, 0.5375, 0.6, 0.6375, 0.6625]    0.6325\n",
              "5           Random Forest      [0.95, 0.925, 0.9375, 0.9, 0.9125]    0.9250\n",
              "6     Logistic Regression     [0.925, 0.775, 0.8125, 0.8125, 0.8]    0.8250\n",
              "7          Polynomial SVM   [0.9375, 0.9, 0.8875, 0.8875, 0.9125]    0.9050\n",
              "8                 RBF SVM  [0.95, 0.9125, 0.9125, 0.9125, 0.9125]    0.9200\n",
              "9             Sigmoid SVM  [0.3125, 0.25, 0.2875, 0.3125, 0.3375]    0.3000"
            ]
          },
          "metadata": {},
          "execution_count": 15
        }
      ]
    },
    {
      "cell_type": "code",
      "metadata": {
        "id": "zMUFJb-8Xx1G"
      },
      "source": [
        "table_score.to_csv(\"Compare_Model.csv\")"
      ],
      "execution_count": 16,
      "outputs": []
    },
    {
      "cell_type": "markdown",
      "metadata": {
        "id": "ab0LcH9ybdjL"
      },
      "source": [
        "#Visualize Accuracy"
      ]
    },
    {
      "cell_type": "code",
      "metadata": {
        "id": "OHP5ecCPcZvD"
      },
      "source": [
        "import matplotlib.pyplot as plt"
      ],
      "execution_count": 17,
      "outputs": []
    },
    {
      "cell_type": "code",
      "metadata": {
        "id": "8rFBGXHabmS-"
      },
      "source": [
        "def Visualize(txt):\n",
        "  fig, ax = plt.subplots()\n",
        "\n",
        "  label = ['KNN', 'SVM', 'DT', 'MNB', 'BNB', 'RF', 'LR', 'Poly', 'RBF', 'Sigmoid']\n",
        "  ax.bar(label, table_score[txt])\n",
        "  ax.set_title(txt + ' Model', fontweight='bold',fontfamily='serif')\n",
        "  for i in ['top','right']:\n",
        "    ax.spines[i].set_visible(False)\n",
        "  ax.grid(linestyle=':',axis='y')\n",
        "  ax.set_xlabel('Model')\n",
        "  ax.set_ylabel(txt)"
      ],
      "execution_count": 18,
      "outputs": []
    },
    {
      "cell_type": "code",
      "metadata": {
        "colab": {
          "base_uri": "https://localhost:8080/",
          "height": 295
        },
        "id": "5g0cEiP1cfYO",
        "outputId": "637d5815-6410-4ebd-ac04-9816f95601c6"
      },
      "source": [
        "Visualize('Accuracy')"
      ],
      "execution_count": 19,
      "outputs": [
        {
          "output_type": "display_data",
          "data": {
            "image/png": "[encoded data removed]",
            "text/plain": [
              "<Figure size 432x288 with 1 Axes>"
            ]
          },
          "metadata": {
            "needs_background": "light"
          }
        }
      ]
    },
    {
      "cell_type": "code",
      "metadata": {
        "colab": {
          "base_uri": "https://localhost:8080/"
        },
        "id": "LbPfELCfsNHO",
        "outputId": "4669c80f-b42a-4902-972b-948469a6e509"
      },
      "source": [
        "#Tìm min-max accuracy\n",
        "idx_max = table_score['Accuracy'].idxmax()\n",
        "idx_min = table_score['Accuracy'].idxmin()\n",
        "print(\"Model\",  table_score['Model'][idx_min], \"với accuray =\", table_score['Accuracy'][idx_min], \"là model có accuracy thấp nhất.\")\n",
        "print(\"Model\",  table_score['Model'][idx_max], \"với accuray =\", table_score['Accuracy'][idx_max], \"là model có accuracy cao nhất.\")"
      ],
      "execution_count": 21,
      "outputs": [
        {
          "output_type": "stream",
          "name": "stdout",
          "text": [
            "Model Sigmoid SVM với accuray = 0.3 là model có accuracy thấp nhất.\n",
            "Model Random Forest với accuray = 0.925 là model có accuracy cao nhất.\n"
          ]
        }
      ]
    },
    {
      "cell_type": "markdown",
      "metadata": {
        "id": "XYD4uyGTrg8X"
      },
      "source": [
        "#Kết bài\n",
        "\n",
        "- Model Sigmoid SVM với accuray = 0.3 là model có accuracy thấp nhất.\n",
        "\n",
        "- Model Random Forest với accuray = 0.925 là model có accuracy cao nhất."
      ]
    }
  ]
}